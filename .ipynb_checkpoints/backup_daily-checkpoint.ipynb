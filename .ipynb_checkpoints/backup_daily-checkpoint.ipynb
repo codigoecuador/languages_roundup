{
 "cells": [
  {
   "cell_type": "markdown",
   "metadata": {},
   "source": [
    "This notebook is for practice copying the files at the start of each working session."
   ]
  },
  {
   "cell_type": "code",
   "execution_count": 1,
   "metadata": {},
   "outputs": [],
   "source": [
    "import os\n",
    "import datetime\n",
    "import shutil as sh"
   ]
  },
  {
   "cell_type": "code",
   "execution_count": 2,
   "metadata": {},
   "outputs": [],
   "source": [
    "#get the date\n",
    "current_date = datetime.date.today()"
   ]
  },
  {
   "cell_type": "markdown",
   "metadata": {},
   "source": [
    "def make_daily_backup(current_date=datetime.date.today()):\n",
    "    files_to_backup={'notebook': 'cmd_roundup.ipynb', 'roundup_dbapi': 'roundup_db1.py',\n",
    "                    'btc': 'BTCInput2.py', 'roundup_db_file': 'roundup_db3.db', 'app_file':'app.py'}\n",
    "    current_dir = os.getcwd()\n",
    "    dir_files = os.listdir.cwd()\n",
    "    backup_dirname = 'backup_{0}_{1}'.format(current_date.month, current_date.day)\n",
    "    #print(backup)\n",
    "    test = os.mkdir(backup_dirname)\n",
    "    print(test)\n",
    "    sh.copy(files_to_backup.get('notebook'), backup_dirname)\n",
    "    sh.copy(files_to_backup.get('roundup_db_api'), backup_dirname)\n",
    "    sh.copy(files_to_backup.get('roundup_db_file'), backup_dirname)\n",
    "    sh.copy(files_to_backup.get('app_file'), backup_dirname)"
   ]
  },
  {
   "cell_type": "code",
   "execution_count": 3,
   "metadata": {},
   "outputs": [],
   "source": [
    "backup_dirname = f'backup_{current_date.month}_{current_date.day}'\n",
    "    #print(backup)\n",
    "os.mkdir(backup_dirname)"
   ]
  },
  {
   "cell_type": "code",
   "execution_count": 4,
   "metadata": {},
   "outputs": [
    {
     "data": {
      "text/plain": [
       "'backup_3_15/BTCInput2.py'"
      ]
     },
     "execution_count": 4,
     "metadata": {},
     "output_type": "execute_result"
    }
   ],
   "source": [
    "files_to_backup={'ui': 'ui.py', 'roundup_dbapi': 'roundup_db1.py',\n",
    "                    'btc': 'BTCInput2.py', 'roundup_db_file': 'roundup_db3.db', 'app_file':'app.py'}\n",
    "backup_dirname = f'backup_{current_date.month}_{current_date.day}'\n",
    "sh.copy(files_to_backup.get('ui'), backup_dirname)\n",
    "sh.copy(files_to_backup.get('roundup_dbapi'), backup_dirname)\n",
    "sh.copy(files_to_backup.get('roundup_db_file'), backup_dirname)\n",
    "sh.copy(files_to_backup.get('app_file'), backup_dirname)\n",
    "sh.copy(files_to_backup.get('btc'), backup_dirname)"
   ]
  },
  {
   "cell_type": "code",
   "execution_count": 5,
   "metadata": {},
   "outputs": [
    {
     "data": {
      "text/plain": [
       "'/Users/thomassullivan/projects/GitHub/languages_roundup'"
      ]
     },
     "execution_count": 5,
     "metadata": {},
     "output_type": "execute_result"
    }
   ],
   "source": [
    "import os\n",
    "os.getcwd()"
   ]
  },
  {
   "cell_type": "code",
   "execution_count": null,
   "metadata": {},
   "outputs": [],
   "source": []
  }
 ],
 "metadata": {
  "kernelspec": {
   "display_name": "Python 3",
   "language": "python",
   "name": "python3"
  },
  "language_info": {
   "codemirror_mode": {
    "name": "ipython",
    "version": 3
   },
   "file_extension": ".py",
   "mimetype": "text/x-python",
   "name": "python",
   "nbconvert_exporter": "python",
   "pygments_lexer": "ipython3",
   "version": "3.7.5"
  }
 },
 "nbformat": 4,
 "nbformat_minor": 4
}
