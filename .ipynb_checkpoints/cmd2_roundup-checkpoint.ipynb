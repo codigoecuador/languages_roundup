{
 "cells": [
  {
   "cell_type": "code",
   "execution_count": 8,
   "metadata": {},
   "outputs": [],
   "source": [
    "import newspaper as np\n",
    "from dateutil.parser import parse\n",
    "from roundup_db1 import Entry, Category, Keyword, Publication, Author, Section, DataAccessLayer\n",
    "from sqlalchemy import func\n",
    "import app,roundup_help\n",
    "import sys, glob, datetime, os\n",
    "import BTCInput2 as btc\n",
    "import itertools as it\n",
    "import warnings, functools, pprint\n",
    "import csv\n",
    "import cmd2\n",
    "import argparse"
   ]
  },
  {
   "cell_type": "code",
   "execution_count": 16,
   "metadata": {},
   "outputs": [],
   "source": [
    "'''Note: not all of these commands will end up being included in the final\n",
    "command line interface.\n",
    "\n",
    "Note for 2/7/20: Add WrappedHTMLFormat properties to each class that we have created.'''\n",
    "\n",
    "class RoundupCMD(cmd2.Cmd):\n",
    "    '''\n",
    "    The actual content of the commands should be moved to the app.py file.\n",
    "    '''\n",
    "    prompt='NewsRoundup'\n",
    "    intro='Welcome to NewsRoundup, powered by SQLAlchemy'\n",
    "    \n",
    "    def __init__(self):\n",
    "        super().__init__()\n",
    "    \n",
    "    add_parser = argparse.ArgumentParser()\n",
    "    add_parser.add_argument('-l', '--url', help='article url')\n",
    "    add_parser.add_argument('-c', '--category_id',\n",
    "            help='category id, type display_categories to view category ids')\n",
    "    add_parser.add_argument('-d', '--date', help='date of article')\n",
    "    \n",
    "    @cmd2.with_argparser(add_parser)\n",
    "    def do_add_article(self, args):\n",
    "        '''Adds a new article to the roundup.\n",
    "        User can add category_id and date as optional arguments'''\n",
    "        if not args.category_id:\n",
    "            category_id = None\n",
    "        else:\n",
    "            category_id = args.category_id\n",
    "        if not args.date:\n",
    "            date = None\n",
    "        else:\n",
    "            date = parse(args.date).date()\n",
    "        app.add_entry(url=args.url, category_id=category_id, date=date,\n",
    "                     session=a.d.session)\n",
    "    \n",
    "    qa_parser = argparse.ArgumentParser()\n",
    "    qa_parser.add_argument('-l', '--url', help='url of article')\n",
    "    qa_parser.add_argument('-c', '--category_id', help='category id e.g. Comoros is 1')\n",
    "    qa_parser.add_argument('-d','--date', help='article date')\n",
    "    qa_parser.add_argument('-desc',  '--description', nargs='*',\n",
    "                           help='article description (optional)')\n",
    "    \n",
    "    @cmd2.with_argparser(qa_parser)\n",
    "    def do_qa(self, args):\n",
    "        '''Adds an article with a single type of the command line. \n",
    "        quick_add url cat_id date'''\n",
    "        if not args.description:\n",
    "            app.qa(session=a.d.session, url=args.url, category_id=args.category_id, date=args.date)\n",
    "        else:\n",
    "            app.qa(session=a.d.session, url=args.url, category_id=args.category_id,\n",
    "                   date=args.date, description=' '.join(args.description))\n",
    "        \n",
    "    cat_parser = argparse.ArgumentParser()\n",
    "    cat_parser.add_argument('-n', '--name', nargs='+', help='name of new category')\n",
    "    cat_parser.add_argument('-s', '--section_id', help='id of the section the category is in')\n",
    "    \n",
    "    @cmd2.with_argparser(cat_parser)\n",
    "    def do_add_category(self, args):\n",
    "        '''Adds a new category'''\n",
    "        app.add_pub_or_cat(session=a.d.session, new_name=' '.join(args.name),\n",
    "                           second_item=args.section_id, add_type='category')\n",
    "    \n",
    "    def do_add_keyword(self, line):\n",
    "        warnings.warn('add_keyword not yet implemented')\n",
    "        #app.add_keyword(session=a.d.session, keyword_text=line)\n",
    "        app.add_item(session=a.d.session, search_type='keyword', new_name=line)\n",
    "        \n",
    "    def help_add_keyword(self, line):\n",
    "        print('Not implemented yet; you can add keywords when adding articles')\n",
    "    \n",
    "    def do_add_keyword_to_article(self, line):\n",
    "        warnings.warn('add_keyword_to_article not yet complete')\n",
    "        app.add_keyword_to_article(session=a.d.session, entry_id=line)\n",
    "        \n",
    "    def help_add_keyword_to_article(self):\n",
    "        print('searches by article and lets the user add keywords to it')\n",
    "        print('e.g. add_keyword_to_article 4')\n",
    "        print('lets the user cycle through keywords and add one to the article')\n",
    "    \n",
    "    pub_parser = argparse.ArgumentParser()\n",
    "    pub_parser.add_argument('-t', '--title', nargs='+', help='title of publication')\n",
    "    pub_parser.add_argument('-l', '--url', help='link to publication home page')\n",
    "    \n",
    "    @cmd2.with_argparser(pub_parser)\n",
    "    def do_add_publication(self, args):\n",
    "        '''Adds a new publication'''\n",
    "        app.add_pub_or_cat(session=a.d.session, new_name=' '.join(args.title),\n",
    "                           second_item=args.url, add_type='publication')\n",
    "    \n",
    "    sec_parser = argparse.ArgumentParser()\n",
    "    sec_parser.add_argument('-n', '--section_name', nargs='+', help='name of section')\n",
    "    \n",
    "    @cmd2.with_argparser(sec_parser)\n",
    "    def do_add_section(self, args):\n",
    "        '''Adds a new section to the roundup'''\n",
    "        warnings.warn('add_section not yet tested')\n",
    "        app.add_item(session=a.d.session, search_type='section',\n",
    "                     new_name=' '.join(args.section_name))\n",
    "    \n",
    "    def do_search_exact_name(self, line):\n",
    "        app.search_exact_name(line=line, session=a.d.session)\n",
    "        \n",
    "    def help_search_exact_name(self):\n",
    "        roundup_help.search_exact_name_help()\n",
    "    \n",
    "    id_search_parser = argparse.ArgumentParser()\n",
    "    id_search_parser.add_argument('-st', '--search_type', help='type of search')\n",
    "    id_search_parser.add_argument('-id', '--item_id', help='numerical id of item')\n",
    "    \n",
    "    @cmd2.with_argparser(id_search_parser)\n",
    "    def do_search_by_id(self, args):\n",
    "        '''Search by id, with search types entry, category, publication, section, and author'''\n",
    "        app.search_by_id(search_type=args.search_type, item_id=args.item_id, session=a.d.session)\n",
    "    \n",
    "    \n",
    "    entry_parser = argparse.ArgumentParser()\n",
    "    entry_parser.add_argument('-id', '--item_id', help='item id, e.g. entry with id 4')\n",
    "    entry_parser.add_argument('-idr', '--id_range', nargs=2,\n",
    "                              help='minimum and maximum ids', )\n",
    "    entry_parser.add_argument('-d', '--date', help='date of entry')\n",
    "    entry_parser.add_argument('-dr', '--date_range', nargs=2,\n",
    "                              help='start date, end_date')\n",
    "    entry_parser.add_argument('-c', '--category_id', help='category id')\n",
    "    entry_parser.add_argument('-l', '--url', help='article_url')\n",
    "    entry_parser.add_argument('-t', '--title', help='article title')\n",
    "                \n",
    "    @cmd2.with_argparser(entry_parser)\n",
    "    def do_find_entry(self, args):\n",
    "        '''Generic search function'''\n",
    "        app.find_entry(session=a.d.session, args=args)\n",
    "    \n",
    "    \n",
    "    fc_parser = argparse.ArgumentParser()\n",
    "    fc_parser.add_argument('-n', '--category_name', nargs='*', help='name of category')\n",
    "    fc_parser.add_argument('-s', '--section_id', help='id of the section the category is in')\n",
    "    fc_parser.add_argument('-id', '--category_id', help='category id')\n",
    "    \n",
    "    #get the category names to work\n",
    "    @cmd2.with_argparser(fc_parser)\n",
    "    def do_find_category(self, args):\n",
    "        '''Search for categories by name, section, or id number'''\n",
    "        query = a.d.session.query(Category)\n",
    "        if args.category_name and args.category_id:\n",
    "            raise Exception('only the name or id, not both')\n",
    "        if args.section_id:\n",
    "            query=query.filter(Category.section_id == args.section_id)\n",
    "        if args.category_id:\n",
    "            query=query.filter(Category.category_id == args.category_id)\n",
    "        if args.category_name:\n",
    "            category_name = ' '.join(args.category_name)\n",
    "            print(category_name)\n",
    "            query=query.filter(Category.name.like(f'%{category_name}%'))\n",
    "        result = query.all()\n",
    "        result_total = len(result)\n",
    "        if result_total == 0:\n",
    "            print('no categories found')\n",
    "            return\n",
    "        result_cycle = it.cycle(result)\n",
    "        print(f'{result_total} categories found')\n",
    "        info_choice = btc.read_int_ranged('1 to view results, 2 to cancel: ', 1, 2)\n",
    "        if info_choice == 1:\n",
    "            while True:\n",
    "                continue_choice = btc.read_int_ranged('1 to view next, 2 to quit', 1, 2)\n",
    "                print(next(result_cycle).name)\n",
    "                if continue_choice == 1:\n",
    "                    print(next(result_cycle))\n",
    "                elif continue_choice == 2:\n",
    "                    print('returning to main menu')\n",
    "                    break\n",
    "        \n",
    "    def do_name_search(self, line):\n",
    "        '''Searches for items using the name'''\n",
    "        warnings.warn('name_search not tested yet')\n",
    "        app.name_search(session=a.d.session, line=line)\n",
    "    \n",
    "    #move the division of the line from the app.py file to this notebook\n",
    "    \n",
    "    count_parser = argparse.ArgumentParser()\n",
    "    count_parser.add_argument('-d','--date_range', nargs=2, help='start date, end_date')\n",
    "    \n",
    "    @cmd2.with_argparser(count_parser)\n",
    "    def do_article_count(self, args):\n",
    "        app.date_range_count(session=a.d.session,\n",
    "                             start_date = args.date_range[0],\n",
    "                            end_date = args.date_range[1])\n",
    "        \n",
    "    def help_article_count(self):\n",
    "        roundup_help.article_count_help()\n",
    "    \n",
    "    @cmd2.with_argparser(count_parser)\n",
    "    def do_articles_needed(self, args):\n",
    "        app.articles_needed(start_date=args.date_range[0],\n",
    "                            end_date=args.date_range[1],\n",
    "                            session=a.d.session)\n",
    "    \n",
    "    \n",
    "    entry_edit = argparse.ArgumentParser()\n",
    "    entry_edit.add_argument('-id', '--entry_id', help='the id number of the entry to edit')\n",
    "    entry_edit.add_argument('-t', '--edit_type', nargs='*',\n",
    "                            help='edit types: title, date, keywords, description, category_id')\n",
    "    \n",
    "    @cmd2.with_argparser(entry_edit)\n",
    "    def do_edit_entry(self, args):\n",
    "        '''Edit entries, change any field to a new value and save it to the database'''\n",
    "        edit_types = {'all': app.edit_entry, 'description': app.desc_from_input,\n",
    "                      'category_id': app.cat_id_from_input, 'add keyword': app.add_keyword_to_article,\n",
    "                    'title': app.name_from_input, 'date': app.date_from_input,\n",
    "                     'delete keyword': app.delete_entry_keyword}\n",
    "        if not args.entry_id:\n",
    "            raise Exception('Must enter entry id')\n",
    "        if args.entry_id:\n",
    "            if not args.edit_type:\n",
    "                app.edit_entry(session=a.d.session, entry_id=args.entry_id)\n",
    "            else:\n",
    "                edit_type = ' '.join(args.edit_type).lower() #make into a string with spaces\n",
    "                edit_types[edit_type](session=a.d.session, entry_id=args.entry_id)\n",
    "    \n",
    "#    def do_edit_entry(self, line):\n",
    "#        app.edit_entry(session=a.d.session, entry_id=line)\n",
    "        \n",
    "#    def help_edit_entry(self):\n",
    "#        roundup_help.edit_entry_help()\n",
    "    \n",
    "    del_parser = argparse.ArgumentParser()\n",
    "    del_parser.add_argument('-ty', '--item_type',\n",
    "                            help='item type e.g. entry, category, section, author, publication')\n",
    "    del_parser.add_argument('-id', '--id_value', help='item id')\n",
    "    \n",
    "    @cmd2.with_argparser(del_parser)\n",
    "    def do_delete_item(self, args):\n",
    "        '''Delete item '''\n",
    "        warnings.warn('Unified delete function not fully tested')\n",
    "        app.delete_item(session=a.d.session, model=args.item_type, id_value=args.id_value)\n",
    "        \n",
    "#    def do_delete_entry_keyword(self, line):\n",
    "#        warnings.warn('Entry keyword removal not tested')\n",
    "#        app.delete_entry_keyword(session=a.d.session, entry_id=line)\n",
    "        \n",
    "#    def help_delete_entry_keyword(self):\n",
    "#        roundup_help.delete_entry_keyword()\n",
    "    \n",
    "    display_parser = argparse.ArgumentParser()\n",
    "    display_parser.add_argument('-s', '--section_id', help='section_id')\n",
    "    \n",
    "    @cmd2.with_argparser(display_parser)\n",
    "    def do_display_categories(self, args):\n",
    "        '''Displays category names for user convenience'''\n",
    "        try:\n",
    "            if args.section_id.isnumeric() == True:\n",
    "                app.display_categories(section_id=args.section_id)\n",
    "        except AttributeError:\n",
    "            app.display_categories()\n",
    "        \n",
    "    def do_display_sections(self, line):\n",
    "        '''Enter without a prefix, displays a list of all sections in the database'''\n",
    "        app.display_sections()\n",
    "    \n",
    "    finalize_parser = argparse.ArgumentParser()\n",
    "    finalize_parser.add_argument('-d', '--date', help='search a single date')\n",
    "    finalize_parser.add_argument('-r', '--date_range', nargs=2,\n",
    "                                 help='search the dates between the start and end dates')\n",
    "    \n",
    "    @cmd2.with_argparser(finalize_parser)\n",
    "    def do_finalize(self, args):\n",
    "        '''searches for articles without descriptions and lets user edit them'''\n",
    "        if args.date:\n",
    "            app.finalize2(session=a.d.session, start_date =args.date, end_date=args.date)\n",
    "        elif args.date_range:\n",
    "            app.finalize2(session=a.d.session, start_date = args.date_range[0],\n",
    "                          end_date=args.date_range[1])\n",
    "        else:\n",
    "            print('Please enter date or date range. Check help for details')\n",
    "            return\n",
    "        \n",
    "#    def do_export_docx(self, line):\n",
    "#        '''Exports a roundup in docx form. The \"line\" argument is deleted by the function'''\n",
    "#        app.create_docx_roundup(line)\n",
    "    \n",
    "    export_parser = argparse.ArgumentParser()\n",
    "    export_parser.add_argument('-t', '--title', nargs='*', help='roundup title')\n",
    "    export_parser.add_argument('-f',\n",
    "        '--filename', help='filename (same directory as the app)')\n",
    "    export_parser.add_argument('-r', '--date_range', nargs=2,\n",
    "                                 help='search the dates between the start and end dates')\n",
    "    \n",
    "    @cmd2.with_argparser(export_parser)\n",
    "    def do_export_html(self, args):\n",
    "        '''Export an html version of the roundup'''\n",
    "        warnings.warn('export_html implementation in testing phase')\n",
    "        app.export_html2(session=a.d.session, program=args.filename,\n",
    "                        start_date=parse(args.date_range[0]).date(),\n",
    "                         end_date=parse(args.date_range[1]).date(),\n",
    "                        title=' '.join(args.title))\n",
    "        \n",
    "    @cmd2.with_argparser(export_parser)\n",
    "    def do_export_docx(self, args):\n",
    "        '''Exports a roundup in docx form. The \"line\" argument is deleted by the function'''\n",
    "        app.create_docx_roundup(args)\n",
    "    \n",
    "    def do_exit(self, arg):\n",
    "        '''Exits the program, any existing database connections will be closed'''\n",
    "        a.close()\n",
    "        print('Exiting Roundup Generator')\n",
    "        return True"
   ]
  },
  {
   "cell_type": "code",
   "execution_count": 17,
   "metadata": {},
   "outputs": [
    {
     "name": "stderr",
     "output_type": "stream",
     "text": [
      "-f is not a recognized command, alias, or macro\n",
      "/Users/thomassullivan/Library/Jupyter/runtime/kernel-f24c0b83-ca05-4a24-8482-6436486518dc.json is not a recognized command, alias, or macro\n"
     ]
    },
    {
     "name": "stdout",
     "output_type": "stream",
     "text": [
      "Welcome to NewsRoundup, powered by SQLAlchemy\n"
     ]
    },
    {
     "name": "stdin",
     "output_type": "stream",
     "text": [
      " edit_entry -id 125 -t add keyword\n"
     ]
    },
    {
     "name": "stdout",
     "output_type": "stream",
     "text": [
      "Entry found: \n",
      "Entry(entry_name='With Comoros Elections, Azali Assoumani Cements His Authoritarian Rule', entry_url='https://www.worldpoliticsreview.com/trend-lines/28540/with-comoros-elections-azali-assoumani-cements-his-authoritarian-rule', description='The recent elections produced a landslide victory for Comoran President Azali Assoumani. His Convention for the Renewal of Comoros won 20 out of 24 seats. The Orange Party won 2 and independents another 2.', date='2020-02-14', id='125', cat=Category(id='1' name='Comoros', section=1))\n"
     ]
    },
    {
     "name": "stdin",
     "output_type": "stream",
     "text": [
      "Enter new keyword:  Orange Party\n",
      "Add new keyword to this article? (1 for yes, 2 for no) 1\n"
     ]
    },
    {
     "name": "stdout",
     "output_type": "stream",
     "text": [
      "Keyword does not exist\n"
     ]
    },
    {
     "name": "stdin",
     "output_type": "stream",
     "text": [
      "Create id=None Orange Party as a new keyword for ? With Comoros Elections, Azali Assoumani Cements His Authoritarian Rule (1 yes, 2 no) 1\n"
     ]
    },
    {
     "name": "stdout",
     "output_type": "stream",
     "text": [
      "Keyword add completed\n"
     ]
    },
    {
     "name": "stdin",
     "output_type": "stream",
     "text": [
      " edit_entry -id 125 -t delete keyword\n"
     ]
    },
    {
     "name": "stdout",
     "output_type": "stream",
     "text": [
      "[id=221 rule,\n",
      " id=1148 recent,\n",
      " id=978 month,\n",
      " id=1149 assoumani,\n",
      " id=1150 months,\n",
      " id=1151 wpr,\n",
      " id=297 parties,\n",
      " id=565 won,\n",
      " id=1152 azali,\n",
      " id=1153 cements,\n",
      " id=848 elections,\n",
      " id=29 comoros,\n",
      " id=152 vote,\n",
      " id=1154 assoumanis,\n",
      " id=296 opposition,\n",
      " id=1155 authoritarian,\n",
      " id=1192 Convention for the Renewal of Comoros,\n",
      " id=1193 Orange Party]\n",
      "Enter 1 to delete keyword, 2 to continue, 3 to exit to main menu\n"
     ]
    },
    {
     "name": "stdin",
     "output_type": "stream",
     "text": [
      "Delete id=221 rule from the keywords? 2\n"
     ]
    },
    {
     "name": "stdout",
     "output_type": "stream",
     "text": [
      "[id=221 rule,\n",
      " id=1148 recent,\n",
      " id=978 month,\n",
      " id=1149 assoumani,\n",
      " id=1150 months,\n",
      " id=1151 wpr,\n",
      " id=297 parties,\n",
      " id=565 won,\n",
      " id=1152 azali,\n",
      " id=1153 cements,\n",
      " id=848 elections,\n",
      " id=29 comoros,\n",
      " id=152 vote,\n",
      " id=1154 assoumanis,\n",
      " id=296 opposition,\n",
      " id=1155 authoritarian,\n",
      " id=1192 Convention for the Renewal of Comoros,\n",
      " id=1193 Orange Party]\n",
      "Enter 1 to delete keyword, 2 to continue, 3 to exit to main menu\n"
     ]
    },
    {
     "name": "stdin",
     "output_type": "stream",
     "text": [
      "Delete id=1148 recent from the keywords? 2\n"
     ]
    },
    {
     "name": "stdout",
     "output_type": "stream",
     "text": [
      "[id=221 rule,\n",
      " id=1148 recent,\n",
      " id=978 month,\n",
      " id=1149 assoumani,\n",
      " id=1150 months,\n",
      " id=1151 wpr,\n",
      " id=297 parties,\n",
      " id=565 won,\n",
      " id=1152 azali,\n",
      " id=1153 cements,\n",
      " id=848 elections,\n",
      " id=29 comoros,\n",
      " id=152 vote,\n",
      " id=1154 assoumanis,\n",
      " id=296 opposition,\n",
      " id=1155 authoritarian,\n",
      " id=1192 Convention for the Renewal of Comoros,\n",
      " id=1193 Orange Party]\n",
      "Enter 1 to delete keyword, 2 to continue, 3 to exit to main menu\n"
     ]
    },
    {
     "name": "stdin",
     "output_type": "stream",
     "text": [
      "Delete id=978 month from the keywords? 2\n"
     ]
    },
    {
     "name": "stdout",
     "output_type": "stream",
     "text": [
      "[id=221 rule,\n",
      " id=1148 recent,\n",
      " id=978 month,\n",
      " id=1149 assoumani,\n",
      " id=1150 months,\n",
      " id=1151 wpr,\n",
      " id=297 parties,\n",
      " id=565 won,\n",
      " id=1152 azali,\n",
      " id=1153 cements,\n",
      " id=848 elections,\n",
      " id=29 comoros,\n",
      " id=152 vote,\n",
      " id=1154 assoumanis,\n",
      " id=296 opposition,\n",
      " id=1155 authoritarian,\n",
      " id=1192 Convention for the Renewal of Comoros,\n",
      " id=1193 Orange Party]\n",
      "Enter 1 to delete keyword, 2 to continue, 3 to exit to main menu\n"
     ]
    },
    {
     "name": "stdin",
     "output_type": "stream",
     "text": [
      "Delete id=1149 assoumani from the keywords? 2\n"
     ]
    },
    {
     "name": "stdout",
     "output_type": "stream",
     "text": [
      "[id=221 rule,\n",
      " id=1148 recent,\n",
      " id=978 month,\n",
      " id=1149 assoumani,\n",
      " id=1150 months,\n",
      " id=1151 wpr,\n",
      " id=297 parties,\n",
      " id=565 won,\n",
      " id=1152 azali,\n",
      " id=1153 cements,\n",
      " id=848 elections,\n",
      " id=29 comoros,\n",
      " id=152 vote,\n",
      " id=1154 assoumanis,\n",
      " id=296 opposition,\n",
      " id=1155 authoritarian,\n",
      " id=1192 Convention for the Renewal of Comoros,\n",
      " id=1193 Orange Party]\n",
      "Enter 1 to delete keyword, 2 to continue, 3 to exit to main menu\n"
     ]
    },
    {
     "name": "stdin",
     "output_type": "stream",
     "text": [
      "Delete id=1150 months from the keywords? 1\n"
     ]
    },
    {
     "name": "stdout",
     "output_type": "stream",
     "text": [
      "[id=221 rule,\n",
      " id=1148 recent,\n",
      " id=978 month,\n",
      " id=1149 assoumani,\n",
      " id=1151 wpr,\n",
      " id=297 parties,\n",
      " id=565 won,\n",
      " id=1152 azali,\n",
      " id=1153 cements,\n",
      " id=848 elections,\n",
      " id=29 comoros,\n",
      " id=152 vote,\n",
      " id=1154 assoumanis,\n",
      " id=296 opposition,\n",
      " id=1155 authoritarian,\n",
      " id=1192 Convention for the Renewal of Comoros,\n",
      " id=1193 Orange Party]\n",
      "Enter 1 to delete keyword, 2 to continue, 3 to exit to main menu\n"
     ]
    },
    {
     "name": "stdin",
     "output_type": "stream",
     "text": [
      "Delete id=297 parties from the keywords? 2\n"
     ]
    },
    {
     "name": "stdout",
     "output_type": "stream",
     "text": [
      "[id=221 rule,\n",
      " id=1148 recent,\n",
      " id=978 month,\n",
      " id=1149 assoumani,\n",
      " id=1151 wpr,\n",
      " id=297 parties,\n",
      " id=565 won,\n",
      " id=1152 azali,\n",
      " id=1153 cements,\n",
      " id=848 elections,\n",
      " id=29 comoros,\n",
      " id=152 vote,\n",
      " id=1154 assoumanis,\n",
      " id=296 opposition,\n",
      " id=1155 authoritarian,\n",
      " id=1192 Convention for the Renewal of Comoros,\n",
      " id=1193 Orange Party]\n",
      "Enter 1 to delete keyword, 2 to continue, 3 to exit to main menu\n"
     ]
    },
    {
     "name": "stdin",
     "output_type": "stream",
     "text": [
      "Delete id=565 won from the keywords? 1\n"
     ]
    },
    {
     "name": "stdout",
     "output_type": "stream",
     "text": [
      "[id=221 rule,\n",
      " id=1148 recent,\n",
      " id=978 month,\n",
      " id=1149 assoumani,\n",
      " id=1151 wpr,\n",
      " id=297 parties,\n",
      " id=1152 azali,\n",
      " id=1153 cements,\n",
      " id=848 elections,\n",
      " id=29 comoros,\n",
      " id=152 vote,\n",
      " id=1154 assoumanis,\n",
      " id=296 opposition,\n",
      " id=1155 authoritarian,\n",
      " id=1192 Convention for the Renewal of Comoros,\n",
      " id=1193 Orange Party]\n",
      "Enter 1 to delete keyword, 2 to continue, 3 to exit to main menu\n"
     ]
    },
    {
     "name": "stdin",
     "output_type": "stream",
     "text": [
      "Delete id=1152 azali from the keywords? 33\n"
     ]
    },
    {
     "name": "stdout",
     "output_type": "stream",
     "text": [
      "That number is too high\n",
      "Maximum value is: 3\n"
     ]
    },
    {
     "name": "stdin",
     "output_type": "stream",
     "text": [
      "Delete id=1152 azali from the keywords? 3\n"
     ]
    },
    {
     "name": "stdout",
     "output_type": "stream",
     "text": [
      "Returning to main menu\n"
     ]
    },
    {
     "name": "stdin",
     "output_type": "stream",
     "text": [
      " exit\n"
     ]
    },
    {
     "name": "stdout",
     "output_type": "stream",
     "text": [
      "Exiting Roundup Generator\n"
     ]
    },
    {
     "data": {
      "text/plain": [
       "0"
      ]
     },
     "execution_count": 17,
     "metadata": {},
     "output_type": "execute_result"
    }
   ],
   "source": [
    "a=app.App()\n",
    "a.setup()\n",
    "RoundupCMD().cmdloop()"
   ]
  },
  {
   "cell_type": "markdown",
   "metadata": {},
   "source": [
    "def wrapStringInHTML(program, url, body):\n",
    "    import datetime\n",
    "    from webbrowser import open_new_tab\n",
    "    now = datetime.datetime.today().strftime(\"%Y%m%d-%H%M%S\")\n",
    "    filename = program + '.html'\n",
    "    f = open(filename,'w')\n",
    "    wrapper = \"\"\"<html>\n",
    "        <head>\n",
    "        <title>%s output - %s</title>\n",
    "        </head>\n",
    "        <body><p>URL: <a href=\\\"%s\\\">%s</a></p><p>%s</p></body>\n",
    "        </html>\"\"\"\n",
    "    whole = wrapper % (program, now, url, url, body)\n",
    "    f.write(whole)\n",
    "    f.close()   \n",
    "    #Mac version, insert following line as above.\n",
    "    #filename = 'file:///Users/username/Desktop/programming-historian/' + filename\n",
    "    open_new_tab(filename)"
   ]
  },
  {
   "cell_type": "code",
   "execution_count": 6,
   "metadata": {},
   "outputs": [],
   "source": [
    "#res = a.d.session.query(Publication).filter(Publication.url =='https://www.radiodalsan.com')"
   ]
  },
  {
   "cell_type": "markdown",
   "metadata": {},
   "source": [
    "03/08/2020\n",
    "\n",
    "Notes:\n",
    "\n",
    "Change format for displaying articles"
   ]
  },
  {
   "cell_type": "markdown",
   "metadata": {},
   "source": [
    "def wrapStringInHTML2(program, url, body):\n",
    "    import datetime\n",
    "    from webbrowser import open_new_tab\n",
    "    now = datetime.datetime.today().strftime(\"%Y%m%d-%H%M%S\")\n",
    "    filename = program + '.html'\n",
    "    f = open(filename,'w')\n",
    "    wrapper = \"\"\"<html>\n",
    "        <head>\n",
    "        <title>%s output - %s</title>\n",
    "        </head>\n",
    "        <body><p>URL: <a href=\\\"%s\\\">%s</a></p><p>%s</p></body>\n",
    "        </html>\"\"\"\n",
    "    whole = wrapper % (program, now, url, url, body)\n",
    "    f.write(whole)\n",
    "    f.close()   \n",
    "    #Mac version, insert following line as above.\n",
    "    #filename = 'file:///Users/username/Desktop/programming-historian/' + filename\n",
    "    open_new_tab(filename)"
   ]
  },
  {
   "cell_type": "code",
   "execution_count": null,
   "metadata": {},
   "outputs": [],
   "source": []
  },
  {
   "cell_type": "code",
   "execution_count": null,
   "metadata": {},
   "outputs": [],
   "source": []
  },
  {
   "cell_type": "code",
   "execution_count": null,
   "metadata": {},
   "outputs": [],
   "source": []
  },
  {
   "cell_type": "code",
   "execution_count": 44,
   "metadata": {},
   "outputs": [],
   "source": []
  },
  {
   "cell_type": "code",
   "execution_count": null,
   "metadata": {},
   "outputs": [],
   "source": []
  },
  {
   "cell_type": "code",
   "execution_count": null,
   "metadata": {},
   "outputs": [],
   "source": []
  },
  {
   "cell_type": "code",
   "execution_count": null,
   "metadata": {},
   "outputs": [],
   "source": []
  }
 ],
 "metadata": {
  "kernelspec": {
   "display_name": "Python 3",
   "language": "python",
   "name": "python3"
  },
  "language_info": {
   "codemirror_mode": {
    "name": "ipython",
    "version": 3
   },
   "file_extension": ".py",
   "mimetype": "text/x-python",
   "name": "python",
   "nbconvert_exporter": "python",
   "pygments_lexer": "ipython3",
   "version": "3.7.5"
  }
 },
 "nbformat": 4,
 "nbformat_minor": 4
}
