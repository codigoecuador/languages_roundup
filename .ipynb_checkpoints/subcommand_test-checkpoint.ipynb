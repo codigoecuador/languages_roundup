{
 "cells": [
  {
   "cell_type": "code",
   "execution_count": 5,
   "metadata": {},
   "outputs": [],
   "source": [
    "#!/usr/bin/env python3\n",
    "# coding=utf-8\n",
    "\"\"\"A simple example demonstrating how to use Argparse to support subcommands.\n",
    "This example shows an easy way for a single command to have many subcommands, each of which takes different arguments\n",
    "and provides separate contextual help.\n",
    "\"\"\"\n",
    "import argparse\n",
    "import cmd2\n",
    "\n",
    "# create the top-level parser for the base command\n",
    "base_parser = argparse.ArgumentParser()\n",
    "base_subparsers = base_parser.add_subparsers(title='subcommands', help='subcommand help')\n",
    "\n",
    "# create the top-level parser for the search command\n",
    "search_parser = argparse.ArgumentParser()\n",
    "search_subparsers = search_parser.add_subparsers(title='subcommands', help='subcommand help')\n",
    "\n",
    "# create the parser for the \"entry\" subcommand\n",
    "parser_entry = search_subparsers.add_parser('entry', help='entry help')\n",
    "parser_entry.add_argument('-t', '--title', nargs='*', help='entry name')\n",
    "parser_entry.add_argument('-dr', '--date_range', nargs=2, help='start date, end date')\n",
    "parser_entry.add_argument('-c', '--category_id', help='category id')\n",
    "parser_entry.add_argument('-desc',  '--description', nargs='*',\n",
    "                           help='article description (optional)')\n",
    "\n",
    "#create the parser for the \"category\" subcommand\n",
    "parser_category = search_subparsers.add_parser('category', help='category help')\n",
    "parser_category.add_argument('-n', '--category_name', nargs='*', help='category name e.g. Python')\n",
    "parser_category.add_argument('-s', '--section_id', help='section id')\n",
    "\n",
    "\n",
    "#create the parser for the \"section\" subcommand\n",
    "parser_section = search_subparsers.add_parser('section', help='section help')\n",
    "\n",
    "\n",
    "class SubcommandsExample(cmd2.Cmd):\n",
    "    \"\"\"\n",
    "    Example cmd2 application where we a base command which has a couple subcommands\n",
    "    and the \"sport\" subcommand has tab completion enabled.\n",
    "    \"\"\"\n",
    "    def __init__(self):\n",
    "        super().__init__()\n",
    "\n",
    "    # subcommand functions for the base command\n",
    "    #def base_foo(self, args):\n",
    "   #     \"\"\"foo subcommand of base command\"\"\"\n",
    "   #     self.poutput(args.x * args.y)\n",
    "\n",
    "    def base_bar(self, args):\n",
    "        \"\"\"bar subcommand of base command\"\"\"\n",
    "        self.poutput('((%s))' % args.title)\n",
    "        \n",
    "    def base_entry(self, args):\n",
    "        \"\"\"entry subcommand of base command\"\"\"\n",
    "        if args.title:\n",
    "            self.poutput('((%s))' % args.title)\n",
    "\n",
    "   # def base_sport(self, args):\n",
    "   #     \"\"\"sport subcommand of base command\"\"\"\n",
    "   #     self.poutput('Sport is {}'.format(args.sport))\n",
    "\n",
    "    # Set handler functions for the subcommands\n",
    "    #parser_foo.set_defaults(func=base_foo)\n",
    "    parser_entry.set_defaults(func=base_entry)\n",
    "    #parser_sport.set_defaults(func=base_sport)\n",
    "\n",
    "    @cmd2.with_argparser(search_parser)\n",
    "    def do_search(self, args):\n",
    "        \"\"\"Search command help\"\"\"\n",
    "        func = getattr(args, 'func', None)\n",
    "        if func is not None:\n",
    "            # Call whatever subcommand function was selected\n",
    "            func(self, args)\n",
    "        else:\n",
    "            # No subcommand was provided, so call help\n",
    "            self.do_help('search')"
   ]
  },
  {
   "cell_type": "code",
   "execution_count": 6,
   "metadata": {},
   "outputs": [
    {
     "name": "stderr",
     "output_type": "stream",
     "text": [
      "-f is not a recognized command, alias, or macro\n",
      "/Users/thomassullivan/Library/Jupyter/runtime/kernel-b7f45490-083d-433f-aac5-1fbffa41cb41.json is not a recognized command, alias, or macro\n"
     ]
    },
    {
     "name": "stdin",
     "output_type": "stream",
     "text": [
      " help\n"
     ]
    },
    {
     "name": "stdout",
     "output_type": "stream",
     "text": [
      "\n",
      "Documented commands (use 'help -v' for verbose/'help <topic>' for details):\n",
      "===========================================================================\n",
      "alias  edit  history  py    run_pyscript  search  shell    \n",
      "base   help  macro    quit  run_script    set     shortcuts\n",
      "\n"
     ]
    },
    {
     "name": "stdin",
     "output_type": "stream",
     "text": [
      " search entry -t test\n"
     ]
    },
    {
     "name": "stdout",
     "output_type": "stream",
     "text": [
      "((['test']))\n"
     ]
    },
    {
     "name": "stdin",
     "output_type": "stream",
     "text": [
      " exit\n"
     ]
    },
    {
     "name": "stderr",
     "output_type": "stream",
     "text": [
      "exit is not a recognized command, alias, or macro\n"
     ]
    },
    {
     "name": "stdin",
     "output_type": "stream",
     "text": [
      " quit\n"
     ]
    },
    {
     "ename": "SystemExit",
     "evalue": "0",
     "output_type": "error",
     "traceback": [
      "An exception has occurred, use %tb to see the full traceback.\n",
      "\u001b[0;31mSystemExit\u001b[0m\u001b[0;31m:\u001b[0m 0\n"
     ]
    }
   ],
   "source": [
    "if __name__ == '__main__':\n",
    "    import sys\n",
    "    app = SubcommandsExample()\n",
    "    sys.exit(app.cmdloop())"
   ]
  },
  {
   "cell_type": "code",
   "execution_count": null,
   "metadata": {},
   "outputs": [],
   "source": []
  }
 ],
 "metadata": {
  "kernelspec": {
   "display_name": "Python 3",
   "language": "python",
   "name": "python3"
  },
  "language_info": {
   "codemirror_mode": {
    "name": "ipython",
    "version": 3
   },
   "file_extension": ".py",
   "mimetype": "text/x-python",
   "name": "python",
   "nbconvert_exporter": "python",
   "pygments_lexer": "ipython3",
   "version": "3.7.5"
  }
 },
 "nbformat": 4,
 "nbformat_minor": 4
}
