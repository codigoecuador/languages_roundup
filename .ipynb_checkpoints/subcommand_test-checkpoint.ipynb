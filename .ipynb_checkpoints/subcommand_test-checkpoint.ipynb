{
 "cells": [
  {
   "cell_type": "code",
   "execution_count": 1,
   "metadata": {},
   "outputs": [],
   "source": [
    "#!/usr/bin/env python3\n",
    "# coding=utf-8\n",
    "\"\"\"A simple example demonstrating how to use Argparse to support subcommands.\n",
    "This example shows an easy way for a single command to have many subcommands, each of which takes different arguments\n",
    "and provides separate contextual help.\n",
    "\"\"\"\n",
    "import argparse\n",
    "import cmd2\n",
    "\n",
    "sport_item_strs = ['Bat', 'Basket', 'Basketball', 'Football', 'Space Ball']\n",
    "\n",
    "# create the top-level parser for the base command\n",
    "base_parser = argparse.ArgumentParser()\n",
    "base_subparsers = base_parser.add_subparsers(title='subcommands', help='subcommand help')\n",
    "\n",
    "# create the top-level parser for the search command\n",
    "search_parser = argparse.ArgumentParser()\n",
    "search_subparsers = search_parser.add_subparsers(title='subcommands', help='subcommand help')\n",
    "\n",
    "# create the parser for the \"entry\" subcommand\n",
    "parser_entry = search_subparsers.add_parser('entry', help='entry help')\n",
    "parser_entry.add_argument('-n', '-name', nargs='*', help='entry name')\n",
    "parser_entry.add_argument('-dr', '--date_range', nargs=2, help='start date, end date')\n",
    "parser_entry.add_argument('-c', '--category_id', help='category id')\n",
    "parser_entry.add_argument('-desc',  '--description', nargs='*',\n",
    "                           help='article description (optional)')\n",
    "\n",
    "\n",
    "# create the parser for the \"foo\" subcommand\n",
    "parser_foo = base_subparsers.add_parser('foo', help='foo help')\n",
    "parser_foo.add_argument('-x', type=int, default=1, help='integer')\n",
    "parser_foo.add_argument('y', type=float, help='float')\n",
    "parser_foo.add_argument('input_file', type=str, help='Input File')\n",
    "\n",
    "# create the parser for the \"bar\" subcommand\n",
    "parser_bar = base_subparsers.add_parser('bar', help='bar help')\n",
    "\n",
    "bar_subparsers = parser_bar.add_subparsers(title='layer3', help='help for 3rd layer of commands')\n",
    "parser_bar.add_argument('z', help='string')\n",
    "\n",
    "bar_subparsers.add_parser('apple', help='apple help')\n",
    "bar_subparsers.add_parser('artichoke', help='artichoke help')\n",
    "bar_subparsers.add_parser('cranberries', help='cranberries help')\n",
    "\n",
    "# create the parser for the \"sport\" subcommand\n",
    "parser_sport = base_subparsers.add_parser('sport', help='sport help')\n",
    "sport_arg = parser_sport.add_argument('sport', help='Enter name of a sport', choices=sport_item_strs)\n",
    "\n",
    "\n",
    "# create the top-level parser for the alternate command\n",
    "# The alternate command doesn't provide its own help flag\n",
    "base2_parser = argparse.ArgumentParser(add_help=False)\n",
    "base2_subparsers = base2_parser.add_subparsers(title='subcommands', help='subcommand help')\n",
    "\n",
    "# create the parser for the \"foo\" subcommand\n",
    "parser_foo2 = base2_subparsers.add_parser('foo', help='foo help')\n",
    "parser_foo2.add_argument('-x', type=int, default=1, help='integer')\n",
    "parser_foo2.add_argument('y', type=float, help='float')\n",
    "parser_foo2.add_argument('input_file', type=str, help='Input File')\n",
    "\n",
    "# create the parser for the \"bar\" subcommand\n",
    "parser_bar2 = base2_subparsers.add_parser('bar', help='bar help')\n",
    "\n",
    "bar2_subparsers = parser_bar2.add_subparsers(title='layer3', help='help for 3rd layer of commands')\n",
    "parser_bar2.add_argument('z', help='string')\n",
    "\n",
    "bar2_subparsers.add_parser('apple', help='apple help')\n",
    "bar2_subparsers.add_parser('artichoke', help='artichoke help')\n",
    "bar2_subparsers.add_parser('cranberries', help='cranberries help')\n",
    "\n",
    "# create the parser for the \"sport\" subcommand\n",
    "parser_sport2 = base2_subparsers.add_parser('sport', help='sport help')\n",
    "sport2_arg = parser_sport2.add_argument('sport', help='Enter name of a sport', choices=sport_item_strs)\n",
    "\n",
    "\n",
    "class SubcommandsExample(cmd2.Cmd):\n",
    "    \"\"\"\n",
    "    Example cmd2 application where we a base command which has a couple subcommands\n",
    "    and the \"sport\" subcommand has tab completion enabled.\n",
    "    \"\"\"\n",
    "    def __init__(self):\n",
    "        super().__init__()\n",
    "\n",
    "    # subcommand functions for the base command\n",
    "    def base_foo(self, args):\n",
    "        \"\"\"foo subcommand of base command\"\"\"\n",
    "        self.poutput(args.x * args.y)\n",
    "\n",
    "    def base_bar(self, args):\n",
    "        \"\"\"bar subcommand of base command\"\"\"\n",
    "        self.poutput('((%s))' % args.z)\n",
    "\n",
    "    def base_sport(self, args):\n",
    "        \"\"\"sport subcommand of base command\"\"\"\n",
    "        self.poutput('Sport is {}'.format(args.sport))\n",
    "\n",
    "    # Set handler functions for the subcommands\n",
    "    parser_foo.set_defaults(func=base_foo)\n",
    "    parser_bar.set_defaults(func=base_bar)\n",
    "    parser_sport.set_defaults(func=base_sport)\n",
    "\n",
    "    @cmd2.with_argparser(base_parser)\n",
    "    def do_base(self, args):\n",
    "        \"\"\"Base command help\"\"\"\n",
    "        func = getattr(args, 'func', None)\n",
    "        if func is not None:\n",
    "            # Call whatever subcommand function was selected\n",
    "            func(self, args)\n",
    "        else:\n",
    "            # No subcommand was provided, so call help\n",
    "            self.do_help('base')\n",
    "    \n",
    "    @cmd2.with_argparser(base_parser)\n",
    "    def do_base(self, args):\n",
    "        \"\"\"Base command help\"\"\"\n",
    "        func = getattr(args, 'func', None)\n",
    "        if func is not None:\n",
    "            # Call whatever subcommand function was selected\n",
    "            func(self, args)\n",
    "        else:\n",
    "            # No subcommand was provided, so call help\n",
    "            self.do_help('base')\n",
    "\n",
    "    @cmd2.with_argparser(base2_parser)\n",
    "    def do_alternate(self, args):\n",
    "        \"\"\"Alternate command help\"\"\"\n",
    "        func = getattr(args, 'func', None)\n",
    "        if func is not None:\n",
    "            # Call whatever subcommand function was selected\n",
    "            func(self, args)\n",
    "        else:\n",
    "            # No subcommand was provided, so call help\n",
    "            self.do_help('alternate')"
   ]
  },
  {
   "cell_type": "code",
   "execution_count": null,
   "metadata": {},
   "outputs": [
    {
     "name": "stderr",
     "output_type": "stream",
     "text": [
      "-f is not a recognized command, alias, or macro\n",
      "/Users/thomassullivan/Library/Jupyter/runtime/kernel-038ea35f-50e6-4f19-82a8-f084da3dcffa.json is not a recognized command, alias, or macro\n"
     ]
    },
    {
     "name": "stdin",
     "output_type": "stream",
     "text": [
      " help\n"
     ]
    },
    {
     "name": "stdout",
     "output_type": "stream",
     "text": [
      "\n",
      "Documented commands (use 'help -v' for verbose/'help <topic>' for details):\n",
      "===========================================================================\n",
      "alias      base  help     macro  quit          run_script  shell    \n",
      "alternate  edit  history  py     run_pyscript  set         shortcuts\n",
      "\n"
     ]
    },
    {
     "name": "stdin",
     "output_type": "stream",
     "text": [
      " base\n"
     ]
    },
    {
     "name": "stdout",
     "output_type": "stream",
     "text": [
      "usage: base [-h] {foo,bar,sport} ...\n",
      "\n",
      "Base command help\n",
      "\n",
      "optional arguments:\n",
      "  -h, --help       show this help message and exit\n",
      "\n",
      "subcommands:\n",
      "  {foo,bar,sport}  subcommand help\n",
      "    foo            foo help\n",
      "    bar            bar help\n",
      "    sport          sport help\n"
     ]
    },
    {
     "name": "stdin",
     "output_type": "stream",
     "text": [
      " help base\n"
     ]
    },
    {
     "name": "stdout",
     "output_type": "stream",
     "text": [
      "usage: base [-h] {foo,bar,sport} ...\n",
      "\n",
      "Base command help\n",
      "\n",
      "optional arguments:\n",
      "  -h, --help       show this help message and exit\n",
      "\n",
      "subcommands:\n",
      "  {foo,bar,sport}  subcommand help\n",
      "    foo            foo help\n",
      "    bar            bar help\n",
      "    sport          sport help\n"
     ]
    }
   ],
   "source": [
    "if __name__ == '__main__':\n",
    "    import sys\n",
    "    app = SubcommandsExample()\n",
    "    sys.exit(app.cmdloop())"
   ]
  },
  {
   "cell_type": "code",
   "execution_count": null,
   "metadata": {},
   "outputs": [],
   "source": []
  }
 ],
 "metadata": {
  "kernelspec": {
   "display_name": "Python 3",
   "language": "python",
   "name": "python3"
  },
  "language_info": {
   "codemirror_mode": {
    "name": "ipython",
    "version": 3
   },
   "file_extension": ".py",
   "mimetype": "text/x-python",
   "name": "python",
   "nbconvert_exporter": "python",
   "pygments_lexer": "ipython3",
   "version": "3.7.5"
  }
 },
 "nbformat": 4,
 "nbformat_minor": 4
}
