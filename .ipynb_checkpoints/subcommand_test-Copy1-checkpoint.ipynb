{
 "cells": [
  {
   "cell_type": "code",
   "execution_count": 1,
   "metadata": {},
   "outputs": [],
   "source": [
    "#!/usr/bin/env python3\n",
    "# coding=utf-8\n",
    "\"\"\"A simple example demonstrating how to use Argparse to support subcommands.\n",
    "This example shows an easy way for a single command to have many subcommands, each of which takes different arguments\n",
    "and provides separate contextual help.\n",
    "\"\"\"\n",
    "import argparse\n",
    "import cmd2\n",
    "import newspaper as np\n",
    "from dateutil.parser import parse\n",
    "from roundup_db1 import Entry, Category, Keyword, Publication, Author, Section, DataAccessLayer\n",
    "import app,roundup_help\n",
    "import sys, glob, datetime, os\n",
    "import BTCInput2 as btc\n",
    "import itertools as it\n",
    "import warnings, functools, pprint"
   ]
  },
  {
   "cell_type": "code",
   "execution_count": 2,
   "metadata": {},
   "outputs": [],
   "source": [
    "# create the top-level parser for the base command\n",
    "base_parser = argparse.ArgumentParser()\n",
    "base_subparsers = base_parser.add_subparsers(title='subcommands', help='subcommand help')\n",
    "\n",
    "# create the top-level parser for the search command\n",
    "search_parser = argparse.ArgumentParser()\n",
    "search_subparsers = search_parser.add_subparsers(title='subcommands', help='subcommand help')\n",
    "\n",
    "# create the parser for the \"entry\" subcommand\n",
    "parser_entry = search_subparsers.add_parser('entry', help='entry help')\n",
    "parser_entry.add_argument('-id', '--entry_id', help='id of the entry')\n",
    "parser_entry.add_argument('-idr', '--id_range', nargs=2,\n",
    "                              help='minimum and maximum ids', )\n",
    "parser_entry.add_argument('-d', '--date', help='date of entry')\n",
    "parser_entry.add_argument('-l', '--url', help='article_url')\n",
    "parser_entry.add_argument('-t', '--title', nargs='*', help='entry name')\n",
    "parser_entry.add_argument('-dr', '--date_range', nargs=2, help='start date, end date')\n",
    "parser_entry.add_argument('-c', '--category_id', help='category id')\n",
    "parser_entry.add_argument('-desc',  '--description', nargs='*',\n",
    "                           help='article description (optional)')\n",
    "\n",
    "#create the parser for the \"category\" subcommand\n",
    "parser_category = search_subparsers.add_parser('category', help='category help')\n",
    "parser_category.add_argument('-id', '--category_id', help='category id')\n",
    "parser_category.add_argument('-n', '--category_name', nargs='*', help='category name e.g. Python')\n",
    "parser_category.add_argument('-s', '--section_id', help='section id')\n",
    "\n",
    "\n",
    "#create the parser for the \"section\" subcommand\n",
    "parser_section = search_subparsers.add_parser('section', help='section help')\n",
    "parser_section.add_argument('-id', '--section_id', help='section id')\n",
    "\n",
    "\n",
    "class RoundupCMD(cmd2.Cmd):\n",
    "    \"\"\"\n",
    "    Example cmd2 application where we a base command which has a couple subcommands\n",
    "    and the \"sport\" subcommand has tab completion enabled.\n",
    "    \"\"\"\n",
    "    def __init__(self):\n",
    "        super().__init__()\n",
    "\n",
    "    def base_category(self, args):\n",
    "        '''Generic category search function'''\n",
    "        app.find_category(session=a.d.session, args=args)\n",
    "        \n",
    "    \n",
    "    def base_entry(self, args):\n",
    "        '''Generic entry search function'''\n",
    "        app.find_entry(session=a.d.session, args=args)\n",
    "    \n",
    "    def base_section(self, args):\n",
    "        '''Generic section search function'''\n",
    "        pass\n",
    "        \n",
    "    parser_category.set_defaults(func=base_category)\n",
    "    parser_entry.set_defaults(func=base_entry)\n",
    "\n",
    "    @cmd2.with_argparser(search_parser)\n",
    "    def do_search(self, args):\n",
    "        \"\"\"Search command help\"\"\"\n",
    "        func = getattr(args, 'func', None)\n",
    "        if func is not None:\n",
    "            # Call whatever subcommand function was selected\n",
    "            func(self, args)\n",
    "        else:\n",
    "            # No subcommand was provided, so call help\n",
    "            self.do_help('search')\n",
    "            \n",
    "    #create universal add entry functionality\n",
    "            \n",
    "    finalize_parser = argparse.ArgumentParser()\n",
    "    finalize_parser.add_argument('-d', '--date', help='search a single date')\n",
    "    finalize_parser.add_argument('-r', '--date_range', nargs=2,\n",
    "                                 help='search the dates between the start and end dates')\n",
    "    \n",
    "    @cmd2.with_argparser(finalize_parser)\n",
    "    def do_finalize(self, args):\n",
    "        '''searches for articles without descriptions and lets user edit them'''\n",
    "        if args.date:\n",
    "            app.finalize2(session=a.d.session, start_date =args.date, end_date=args.date)\n",
    "        elif args.date_range:\n",
    "            app.finalize2(session=a.d.session, start_date = args.date_range[0],\n",
    "                          end_date=args.date_range[1])\n",
    "        else:\n",
    "            print('Please enter date or date range. Check help for details')\n",
    "            return\n",
    "        \n",
    "    def do_export_docx(self, line):\n",
    "        '''Exports a roundup in docx form. The \"line\" argument is deleted by the function'''\n",
    "        app.create_docx_roundup(line)\n",
    "    \n",
    "    export_parser = argparse.ArgumentParser()\n",
    "    export_parser.add_argument('-t', '--title', nargs='*', help='roundup title')\n",
    "    export_parser.add_argument('-f',\n",
    "        '--filename', help='filename (same directory as the app)')\n",
    "    export_parser.add_argument('-r', '--date_range', nargs=2,\n",
    "                                 help='search the dates between the start and end dates')\n",
    "    \n",
    "    @cmd2.with_argparser(export_parser)\n",
    "    def do_export_html(self, args):\n",
    "        '''Export an html version of the roundup'''\n",
    "        warnings.warn('export_html implementation in testing phase')\n",
    "        app.export_html2(session=a.d.session, program=args.filename,\n",
    "                        start_date=parse(args.date_range[0]).date(),\n",
    "                         end_date=parse(args.date_range[1]).date(),\n",
    "                        title=' '.join(args.title))\n",
    "    \n",
    "    def do_exit(self, arg):\n",
    "        '''Exits the program, any existing database connections will be closed'''\n",
    "        a.close()\n",
    "        print('Exiting Roundup Generator')\n",
    "        return True"
   ]
  },
  {
   "cell_type": "code",
   "execution_count": 3,
   "metadata": {},
   "outputs": [
    {
     "name": "stderr",
     "output_type": "stream",
     "text": [
      "-f is not a recognized command, alias, or macro\n",
      "/Users/thomassullivan/Library/Jupyter/runtime/kernel-87f3d5a9-8ac9-4801-83ac-a0398142e062.json is not a recognized command, alias, or macro\n"
     ]
    },
    {
     "name": "stdin",
     "output_type": "stream",
     "text": [
      " search category -n scr\n"
     ]
    },
    {
     "name": "stdout",
     "output_type": "stream",
     "text": [
      "['scr']\n",
      "scr\n",
      "1 categories found\n"
     ]
    },
    {
     "name": "stdin",
     "output_type": "stream",
     "text": [
      "1 to view results, 2 to cancel:  1\n",
      "1 to view next, 2 to quit:  1\n"
     ]
    },
    {
     "name": "stdout",
     "output_type": "stream",
     "text": [
      "scripting/automation\n",
      "Category(id='2' name='scripting/automation', section=1)\n"
     ]
    },
    {
     "name": "stdin",
     "output_type": "stream",
     "text": [
      "1 to view next, 2 to quit:  2\n"
     ]
    },
    {
     "name": "stdout",
     "output_type": "stream",
     "text": [
      "scripting/automation\n",
      "returning to main menu\n"
     ]
    },
    {
     "name": "stdin",
     "output_type": "stream",
     "text": [
      " exit\n"
     ]
    },
    {
     "name": "stdout",
     "output_type": "stream",
     "text": [
      "Exiting Roundup Generator\n"
     ]
    }
   ],
   "source": [
    "if __name__ == '__main__':\n",
    "    #import sys\n",
    "    #app = SubcommandsExample()\n",
    "    #sys.exit(app.cmdloop())\n",
    "    a=app.App()\n",
    "    a.setup()\n",
    "    RoundupCMD().cmdloop()"
   ]
  },
  {
   "cell_type": "code",
   "execution_count": 10,
   "metadata": {},
   "outputs": [],
   "source": [
    "a.d.session.close()"
   ]
  },
  {
   "cell_type": "code",
   "execution_count": null,
   "metadata": {},
   "outputs": [],
   "source": []
  }
 ],
 "metadata": {
  "kernelspec": {
   "display_name": "Python 3",
   "language": "python",
   "name": "python3"
  },
  "language_info": {
   "codemirror_mode": {
    "name": "ipython",
    "version": 3
   },
   "file_extension": ".py",
   "mimetype": "text/x-python",
   "name": "python",
   "nbconvert_exporter": "python",
   "pygments_lexer": "ipython3",
   "version": "3.7.5"
  }
 },
 "nbformat": 4,
 "nbformat_minor": 4
}
