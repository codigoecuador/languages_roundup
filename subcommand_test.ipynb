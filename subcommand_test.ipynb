{
 "cells": [
  {
   "cell_type": "code",
   "execution_count": 27,
   "metadata": {},
   "outputs": [],
   "source": [
    "#!/usr/bin/env python3\n",
    "# coding=utf-8\n",
    "\"\"\"A simple example demonstrating how to use Argparse to support subcommands.\n",
    "This example shows an easy way for a single command to have many subcommands, each of which takes different arguments\n",
    "and provides separate contextual help.\n",
    "\"\"\"\n",
    "import argparse\n",
    "import cmd2\n",
    "import newspaper as np\n",
    "from dateutil.parser import parse\n",
    "from roundup_db1 import Entry, Category, Keyword, Publication, Author, Section, DataAccessLayer\n",
    "import app,roundup_help\n",
    "import sys, glob, datetime, os\n",
    "import BTCInput2 as btc\n",
    "import itertools as it\n",
    "import warnings, functools, pprint"
   ]
  },
  {
   "cell_type": "code",
   "execution_count": 45,
   "metadata": {},
   "outputs": [
    {
     "data": {
      "text/plain": [
       "_StoreAction(option_strings=['-r', '--date_range'], dest='date_range', nargs=2, const=None, default=None, type=None, choices=None, help='search the dates between the start and end dates', metavar=None)"
      ]
     },
     "execution_count": 45,
     "metadata": {},
     "output_type": "execute_result"
    }
   ],
   "source": [
    "###SEARCH COMMAND\n",
    "\n",
    "# create the top-level parser for the search command\n",
    "search_parser = argparse.ArgumentParser()\n",
    "search_subparsers = search_parser.add_subparsers(title='subcommands', help='subcommand help')\n",
    "\n",
    "# create the parser for the \"entry\" subcommand\n",
    "parser_entry = search_subparsers.add_parser('entry', help='entry help')\n",
    "parser_entry.add_argument('-id', '--entry_id', help='id of the entry')\n",
    "parser_entry.add_argument('-idr', '--id_range', nargs=2,\n",
    "                              help='minimum and maximum ids', )\n",
    "parser_entry.add_argument('-d', '--date', help='date of entry')\n",
    "parser_entry.add_argument('-l', '--url', help='article_url')\n",
    "parser_entry.add_argument('-t', '--title', nargs='*', help='entry name')\n",
    "parser_entry.add_argument('-dr', '--date_range', nargs=2, help='start date, end date')\n",
    "parser_entry.add_argument('-c', '--category_id', help='category id')\n",
    "parser_entry.add_argument('-desc',  '--description', nargs='*',\n",
    "                           help='article description (optional)')\n",
    "\n",
    "#create the parser for the \"category\" subcommand\n",
    "parser_category = search_subparsers.add_parser('category', help='category help')\n",
    "parser_category.add_argument('-id', '--category_id', help='category id')\n",
    "parser_category.add_argument('-n', '--category_name', nargs='*', help='category name e.g. Python')\n",
    "parser_category.add_argument('-s', '--section_id', help='section id')\n",
    "\n",
    "#create the parser for the \"keyword\" subcommand\n",
    "\n",
    "parser_keyword = search_subparsers.add_parser('keyword', help='keyword help')\n",
    "parser_keyword.add_argument('-id', '--keyword_id', help='keyword id')\n",
    "parser_keyword.add_argument('-w', '--word', nargs='*', help='keyword text e.g. mapreduce')\n",
    "\n",
    "#create the parser for the \"section\" subcommand\n",
    "parser_section = search_subparsers.add_parser('section', help='section help')\n",
    "parser_section.add_argument('-id', '--section_id', help='section id')\n",
    "parser_section.add_argument('-n', '--name', help='section name')\n",
    "\n",
    "###ADD COMMAND\n",
    "add_parser = argparse.ArgumentParser()\n",
    "add_subparsers = add_parser.add_subparsers(title='subcommands', help='subcommand help')\n",
    "\n",
    "#create the parser for the \"entry\" subcommand\n",
    "\n",
    "parser_add_entry = add_subparsers.add_parser('entry', help='entry help')\n",
    "parser_add_entry.add_argument('-l', '--url', help='url of article')\n",
    "parser_add_entry.add_argument('-c', '--category_id', help='category id e.g. Comoros is 1')\n",
    "parser_add_entry.add_argument('-d','--date', help='article date')\n",
    "parser_add_entry.add_argument('-desc',  '--description', nargs='*',\n",
    "                           help='article description (optional)')\n",
    "\n",
    "#create the parser for the \"category\" subcommand\n",
    "\n",
    "parser_add_cat = add_subparsers.add_parser('category', help='category help')\n",
    "parser_add_cat.add_argument('-n', '--name', nargs='*', help='category name e.g. Python')\n",
    "parser_add_cat.add_argument('-s', '--section_id', help='section id')\n",
    "\n",
    "#create the parser for the \"section\" subcommand\n",
    "parser_add_sec = add_subparsers.add_parser('section', help='section help')\n",
    "parser_add_sec.add_argument('-n', '--name', nargs='*', help='section name')\n",
    "\n",
    "##EDIT COMMAND: parsers for editing Entries, Categories, Sections, Keywords,\n",
    "#Publications, and Authors\n",
    "\n",
    "edit_parser = argparse.ArgumentParser() #main parser for the edit command\n",
    "edit_subparsers = edit_parser.add_subparsers(title='subcommands', help='subcommand help')\n",
    "\n",
    "#create the parser for the \"entry\" subcommand\n",
    "edit_entry_parser = edit_subparsers.add_parser('entry', help='entry help')\n",
    "edit_entry_parser.add_argument('-id', '--entry_id', help='the id number of the entry to edit')\n",
    "edit_entry_parser.add_argument('-t', '--edit_type', nargs='*',\n",
    "                            help='edit types: title, date, keywords, description, category_id')\n",
    "\n",
    "\n",
    "##EXPORT COMMAND: parsers for the commands\n",
    "\n",
    "exp_parser = argparse.ArgumentParser() #different from the exportparser\n",
    "exp_subparsers = exp_parser.add_subparsers(title='subcommands', help='subcommand help')\n",
    "\n",
    "#create the parser for the \"docx\" subcommand\n",
    "\n",
    "docx_parser = exp_subparsers.add_parser('docx', help='docx help')\n",
    "docx_parser.add_argument('-t', '--title', nargs='*', help='roundup title')\n",
    "docx_parser.add_argument('-f',\n",
    "        '--filename', help='filename (same directory as the app)')\n",
    "docx_parser.add_argument('-r', '--date_range', nargs=2,\n",
    "                                 help='search the dates between the start and end dates')\n",
    "\n",
    "#create the parser for the \"html\" subcommand\n",
    "\n",
    "html_parser = exp_subparsers.add_parser('html', help='docx help')\n",
    "html_parser.add_argument('-t', '--title', nargs='*', help='roundup title')\n",
    "html_parser.add_argument('-f',\n",
    "        '--filename', help='filename (same directory as the app)')\n",
    "html_parser.add_argument('-r', '--date_range', nargs=2,\n",
    "                                 help='search the dates between the start and end dates')\n",
    "#create the parser for the jsx subcommand\n",
    "\n",
    "jsx_parser = exp_subparsers.add_parser('jsx', help='docx help')\n",
    "jsx_parser.add_argument('-t', '--title', nargs='*', help='roundup title')\n",
    "jsx_parser.add_argument('-f',\n",
    "        '--filename', help='filename (same directory as the app)')\n",
    "jsx_parser.add_argument('-r', '--date_range', nargs=2,\n",
    "                                 help='search the dates between the start and end dates')\n",
    "\n",
    "#DELETE: parsers for the delete command"
   ]
  },
  {
   "cell_type": "code",
   "execution_count": 46,
   "metadata": {},
   "outputs": [],
   "source": [
    "class RoundupCMD(cmd2.Cmd):\n",
    "    \"\"\"\n",
    "    Example cmd2 application where we a base command which has a couple subcommands\n",
    "    and the \"sport\" subcommand has tab completion enabled.\n",
    "    \"\"\"\n",
    "    def __init__(self):\n",
    "        super().__init__()\n",
    "        \n",
    "    #add item section\n",
    "    \n",
    "    def base_ent(self, args):\n",
    "        '''Adds an article with a single type entry on the command line'''\n",
    "        if not args.description:\n",
    "            app.qa(session=a.d.session, url=args.url, category_id=args.category_id, date=args.date)\n",
    "        else:\n",
    "            app.qa(session=a.d.session, url=args.url, category_id=args.category_id,\n",
    "                   date=args.date, description=' '.join(args.description))\n",
    "            \n",
    "    def base_cat(self, args):\n",
    "        '''Adds a category with a single entry on the command line'''\n",
    "        app.add_pub_or_cat(new_name=' '.join(args.name),\n",
    "                           second_item=args.section_id,\n",
    "                          session=a.d.session, add_type='category')\n",
    "        \n",
    "    def base_sect(self, args):\n",
    "        '''Adds a new section to the roundup'''\n",
    "        warnings.warn('add_section not yet tested')\n",
    "        app.add_item(session=a.d.session, search_type='section',\n",
    "                     new_name=' '.join(args.section_name))\n",
    "        \n",
    "    parser_add_entry.set_defaults(func=base_ent)\n",
    "    parser_add_cat.set_defaults(func=base_cat)\n",
    "    parser_add_sec.set_defaults(func=base_sect)\n",
    "    \n",
    "    @cmd2.with_argparser(qa_parser)\n",
    "    def do_add(self, args):\n",
    "        \"\"\"Search command help\"\"\"\n",
    "        func = getattr(args, 'func', None)\n",
    "        if func is not None:\n",
    "            # Call whatever subcommand function was selected\n",
    "            func(self, args)\n",
    "        else:\n",
    "            # No subcommand was provided, so call help\n",
    "            self.do_help('search')\n",
    "    \n",
    "    #search section\n",
    "    \n",
    "    def base_category(self, args):\n",
    "        '''Generic category search function'''\n",
    "        app.find_category(session=a.d.session, args=args)\n",
    "        \n",
    "    def base_entry(self, args):\n",
    "        '''Generic entry search function'''\n",
    "        app.find_entry(session=a.d.session, args=args)\n",
    "    \n",
    "    def base_section(self, args):\n",
    "        '''Generic section search function'''\n",
    "        app.find_section(session=a.d.session, args=args)\n",
    "        \n",
    "    def base_keyword(self, args):\n",
    "        '''Generic keyword search function'''\n",
    "        app.find_keyword(session=a.d.session, args=args)\n",
    "        \n",
    "    parser_category.set_defaults(func=base_category)\n",
    "    parser_section.set_defaults(func=base_section)\n",
    "    parser_entry.set_defaults(func=base_entry)\n",
    "    parser_keyword.set_defaults(func=base_keyword)\n",
    "\n",
    "    @cmd2.with_argparser(search_parser)\n",
    "    def do_search(self, args):\n",
    "        \"\"\"Search command help\"\"\"\n",
    "        func = getattr(args, 'func', None)\n",
    "        if func is not None:\n",
    "            # Call whatever subcommand function was selected\n",
    "            func(self, args)\n",
    "        else:\n",
    "            # No subcommand was provided, so call help\n",
    "            self.do_help('search')\n",
    "    \n",
    "    #edit section\n",
    "    \n",
    "    def base_edit_entry(self, args):\n",
    "        '''Generic edit entry function'''\n",
    "        edit_types = {'all': app.edit_entry, 'description': app.desc_from_input,\n",
    "                      'category_id': app.cat_id_from_input, 'add keyword': app.add_keyword_to_article,\n",
    "                    'title': app.name_from_input, 'date': app.date_from_input,\n",
    "                     'delete keyword': app.delete_entry_keyword}\n",
    "        if not args.entry_id:\n",
    "            raise Exception('Must enter entry id')\n",
    "        if args.entry_id:\n",
    "            if not args.edit_type:\n",
    "                app.edit_entry(session=a.d.session, entry_id=args.entry_id)\n",
    "            else:\n",
    "                edit_type = ' '.join(args.edit_type).lower() #make into a string with spaces\n",
    "                edit_types[edit_type](session=a.d.session, entry_id=args.entry_id)\n",
    "    \n",
    "    edit_entry_parser.set_defaults(func=base_edit_entry)\n",
    "    \n",
    "    @cmd2.with_argparser(edit_parser)\n",
    "    def do_edit(self, args):\n",
    "        \"\"\"Edit command help\"\"\"\n",
    "        func = getattr(args, 'func', None)\n",
    "        if func is not None:\n",
    "            # Call whatever subcommand function was selected\n",
    "            func(self, args)\n",
    "        else:\n",
    "            # No subcommand was provided, so call help\n",
    "            self.do_help('edit')\n",
    "    \n",
    "    #export section \n",
    "    #create export function with html and docx as subcommands\n",
    "    #jsx function not yet complete\n",
    "    \n",
    "    def base_docx(self, args):\n",
    "        '''Generic export html function'''\n",
    "        app.create_docx_roundup(args)\n",
    "    \n",
    "    def base_html(self, args):\n",
    "        '''Generic export html function'''\n",
    "        app.export_html2(session=a.d.session, program=args.filename,\n",
    "                        start_date=parse(args.date_range[0]).date(),\n",
    "                         end_date=parse(args.date_range[1]).date(),\n",
    "                        title=' '.join(args.title))\n",
    "        \n",
    "    def base_jsx(self, args):\n",
    "        '''Generic export jsx function for react'''\n",
    "        print(args)\n",
    "        app.export_jsx(session=a.d.session, program=args.filename,\n",
    "                        start_date=parse(args.date_range[0]).date(),\n",
    "                         end_date=parse(args.date_range[1]).date(),\n",
    "                        title=' '.join(args.title))\n",
    "        \n",
    "   \n",
    "    docx_parser.set_defaults(func=base_docx)\n",
    "    html_parser.set_defaults(func=base_html)\n",
    "    jsx_parser.set_defaults(func=base_jsx)\n",
    "    \n",
    "    @cmd2.with_argparser(exp_parser)\n",
    "    def do_export(self, args):\n",
    "        \"\"\"Search command help\"\"\"\n",
    "        func = getattr(args, 'func', None)\n",
    "        if func is not None:\n",
    "            # Call whatever subcommand function was selected\n",
    "            func(self, args)\n",
    "        else:\n",
    "            # No subcommand was provided, so call help\n",
    "            self.do_help('exp')\n",
    "            \n",
    "    #create universal add entry functionality\n",
    "            \n",
    "    finalize_parser = argparse.ArgumentParser()\n",
    "    finalize_parser.add_argument('-d', '--date', help='search a single date')\n",
    "    finalize_parser.add_argument('-r', '--date_range', nargs=2,\n",
    "                                 help='search the dates between the start and end dates')\n",
    "    \n",
    "    \n",
    "    @cmd2.with_argparser(finalize_parser)\n",
    "    def do_finalize(self, args):\n",
    "        '''searches for articles without descriptions and lets user edit them'''\n",
    "        if args.date:\n",
    "            app.finalize(session=a.d.session, start_date =args.date, end_date=args.date)\n",
    "        elif args.date_range:\n",
    "            app.finalize(session=a.d.session, start_date = args.date_range[0],\n",
    "                          end_date=args.date_range[1])\n",
    "        else:\n",
    "            print('Please enter date or date range. Check help for details')\n",
    "            return\n",
    "    \n",
    "    \n",
    "    display_parser = argparse.ArgumentParser()\n",
    "    display_parser.add_argument('-s', '--section_id', help='section_id')\n",
    "    \n",
    "    @cmd2.with_argparser(display_parser)\n",
    "    def do_display_categories(self, args):\n",
    "        '''Displays category names for user convenience'''\n",
    "        try:\n",
    "            if args.section_id.isnumeric() == True:\n",
    "                app.display_categories(section_id=args.section_id)\n",
    "        except AttributeError:\n",
    "            app.display_categories()\n",
    "        \n",
    "    def do_display_sections(self, line):\n",
    "        '''Enter without a prefix, displays a list of all sections in the database'''\n",
    "        app.display_sections()\n",
    "        \n",
    "    count_parser = argparse.ArgumentParser()\n",
    "    count_parser.add_argument('-d','--date_range', nargs=2, help='start date, end_date')\n",
    "    \n",
    "    @cmd2.with_argparser(count_parser)\n",
    "    def do_article_count(self, args):\n",
    "        app.date_range_count(session=a.d.session,\n",
    "                             start_date = args.date_range[0],\n",
    "                            end_date = args.date_range[1])\n",
    "        \n",
    "    def help_article_count(self):\n",
    "        roundup_help.article_count_help()\n",
    "    \n",
    "    @cmd2.with_argparser(count_parser)\n",
    "    def do_articles_needed(self, args):\n",
    "        app.articles_needed(start_date=args.date_range[0],\n",
    "                            end_date=args.date_range[1],\n",
    "                            session=a.d.session)\n",
    "    \n",
    "    del_parser = argparse.ArgumentParser()\n",
    "    del_parser.add_argument('-ty', '--item_type',\n",
    "                            help='item type e.g. entry, category, section, author, publication')\n",
    "    del_parser.add_argument('-id', '--id_value', help='item id')\n",
    "    \n",
    "    \n",
    "    \n",
    "    @cmd2.with_argparser(del_parser)\n",
    "    def do_delete_item(self, args):\n",
    "        '''Delete item '''\n",
    "        warnings.warn('Unified delete function not fully tested')\n",
    "        app.delete_item(session=a.d.session, model=args.item_type, id_value=args.id_value)\n",
    "    \n",
    "    def do_exit(self, arg):\n",
    "        '''Exits the program, any existing database connections will be closed'''\n",
    "        a.close()\n",
    "        print('Exiting Languages Roundup')\n",
    "        return True"
   ]
  },
  {
   "cell_type": "code",
   "execution_count": 47,
   "metadata": {},
   "outputs": [
    {
     "name": "stderr",
     "output_type": "stream",
     "text": [
      "-f is not a recognized command, alias, or macro\n",
      "/Users/thomassullivan/Library/Jupyter/runtime/kernel-c808c68f-3a9a-45da-85c1-65f6b7d7ae7a.json is not a recognized command, alias, or macro\n"
     ]
    },
    {
     "name": "stdin",
     "output_type": "stream",
     "text": [
      " help\n"
     ]
    },
    {
     "name": "stdout",
     "output_type": "stream",
     "text": [
      "\n",
      "Documented commands (use 'help -v' for verbose/'help <topic>' for details):\n",
      "===========================================================================\n",
      "add                 display_sections  finalize  py            search   \n",
      "alias               edit              help      quit          set      \n",
      "delete_item         exit              history   run_pyscript  shell    \n",
      "display_categories  export            macro     run_script    shortcuts\n",
      "\n",
      "Undocumented commands:\n",
      "======================\n",
      "article_count  articles_needed\n",
      "\n"
     ]
    },
    {
     "name": "stdin",
     "output_type": "stream",
     "text": [
      " edit entry id 1\n"
     ]
    },
    {
     "name": "stderr",
     "output_type": "stream",
     "text": [
      "usage: edit [-h] {entry} ...\n",
      "edit: error: unrecognized arguments: id 1\n"
     ]
    },
    {
     "name": "stdin",
     "output_type": "stream",
     "text": [
      " help edit entry\n"
     ]
    },
    {
     "name": "stdout",
     "output_type": "stream",
     "text": [
      "usage: edit entry [-h] [-id ENTRY_ID] [-t [EDIT_TYPE [EDIT_TYPE ...]]]\n",
      "\n",
      "optional arguments:\n",
      "  -h, --help            show this help message and exit\n",
      "  -id ENTRY_ID, --entry_id ENTRY_ID\n",
      "                        the id number of the entry to edit\n",
      "  -t [EDIT_TYPE [EDIT_TYPE ...]], --edit_type [EDIT_TYPE [EDIT_TYPE ...]]\n",
      "                        edit types: title, date, keywords, description,\n",
      "                        category_id\n"
     ]
    },
    {
     "name": "stdin",
     "output_type": "stream",
     "text": [
      " edit entry -id 1\n",
      "Continue editing Not a 'math person'? You may be better at learning to code than you think, 1-yes 2-quit 1\n"
     ]
    },
    {
     "name": "stdout",
     "output_type": "stream",
     "text": [
      "Entry(entry_name='Not a 'math person'? You may be better at learning to code than you think', entry_url='https://www.sciencedaily.com/releases/2020/03/200302103735.htm', description='Not specified', date='2020-03-04', id='1', cat=Category(id='1' name='skills', section=4))\n"
     ]
    },
    {
     "name": "stdin",
     "output_type": "stream",
     "text": [
      "Edit title (1 for yes, 2 for no):  2\n"
     ]
    },
    {
     "name": "stdout",
     "output_type": "stream",
     "text": [
      "Edit cancelled\n"
     ]
    },
    {
     "name": "stdin",
     "output_type": "stream",
     "text": [
      "Continue editing Not a 'math person'? You may be better at learning to code than you think, 1-yes 2-quit 1\n"
     ]
    },
    {
     "name": "stdout",
     "output_type": "stream",
     "text": [
      "Entry(entry_name='Not a 'math person'? You may be better at learning to code than you think', entry_url='https://www.sciencedaily.com/releases/2020/03/200302103735.htm', description='Not specified', date='2020-03-04', id='1', cat=Category(id='1' name='skills', section=4))\n"
     ]
    },
    {
     "name": "stdin",
     "output_type": "stream",
     "text": [
      "Edit date (1 for yes, 2 for no):  2\n"
     ]
    },
    {
     "name": "stdout",
     "output_type": "stream",
     "text": [
      "Edit cancelled\n"
     ]
    },
    {
     "name": "stdin",
     "output_type": "stream",
     "text": [
      "Continue editing Not a 'math person'? You may be better at learning to code than you think, 1-yes 2-quit 1\n"
     ]
    },
    {
     "name": "stdout",
     "output_type": "stream",
     "text": [
      "Entry(entry_name='Not a 'math person'? You may be better at learning to code than you think', entry_url='https://www.sciencedaily.com/releases/2020/03/200302103735.htm', description='Not specified', date='2020-03-04', id='1', cat=Category(id='1' name='skills', section=4))\n"
     ]
    },
    {
     "name": "stdin",
     "output_type": "stream",
     "text": [
      "Edit description (1 for yes, 2 for no):  1\n",
      "Enter new description or \".\" to cancel:  Don't give up on coding if you don't have top-notch math skills, because it has much in common with verbal skills.\n"
     ]
    },
    {
     "name": "stdout",
     "output_type": "stream",
     "text": [
      "Entry edit successful\n"
     ]
    },
    {
     "name": "stdin",
     "output_type": "stream",
     "text": [
      "Continue editing Not a 'math person'? You may be better at learning to code than you think, 1-yes 2-quit 2\n",
      " finalize -r 02/01/2020 03/16/2020\n"
     ]
    },
    {
     "name": "stdout",
     "output_type": "stream",
     "text": [
      "7 undescribed articles\n",
      "Next entry:  New Python Programmer? Learn These Concepts First.\n"
     ]
    },
    {
     "name": "stdin",
     "output_type": "stream",
     "text": [
      "press 1 to continue, 2 to quit 1\n"
     ]
    },
    {
     "name": "stdout",
     "output_type": "stream",
     "text": [
      "7 undescribed articles remaining\n",
      "\n",
      "\n",
      "Entry ID: 3\n",
      "Title: New Python Programmer? Learn These Concepts First.\n",
      "Date: 2020-02-17\n",
      "Link: https://insights.dice.com/2020/02/17/new-python-programmer-learn-concepts/\n",
      "Authors: [Author(id='7' name='David Bolton')]\n",
      "Publication: Publication(publication_id='3' title='https://insights.dice.com')\n",
      "Category: None\n",
      "Description: Not specified\n",
      "Keywords: [id=22 packages, id=23 create, id=24 modules, id=25 way, id=3 learn, id=11 python, id=26 random, id=27 install, id=28 concepts, id=29 conda, id=30 programmer, id=31 virtual, id=32 need]\n"
     ]
    },
    {
     "name": "stdin",
     "output_type": "stream",
     "text": [
      "Edit description - 1, Edit category id - 2, 3-next_article:  1\n",
      "Type 1 to view summary, 2 to skip 2\n"
     ]
    },
    {
     "name": "stdout",
     "output_type": "stream",
     "text": [
      "Summary display not needed\n"
     ]
    },
    {
     "name": "stdin",
     "output_type": "stream",
     "text": [
      "Enter new description or \".\" to cancel:  This article discusses what you need to know if you want to start learning Python and develop useful skills.\n"
     ]
    },
    {
     "name": "stdout",
     "output_type": "stream",
     "text": [
      "This article discusses what you need to know if you want to start learning Python and develop useful skills.\n",
      "\n",
      "\n",
      "Entry ID: 3\n",
      "Title: New Python Programmer? Learn These Concepts First.\n",
      "Date: 2020-02-17\n",
      "Link: https://insights.dice.com/2020/02/17/new-python-programmer-learn-concepts/\n",
      "Authors: [Author(id='7' name='David Bolton')]\n",
      "Publication: Publication(publication_id='3' title='https://insights.dice.com')\n",
      "Category: None\n",
      "Description: This article discusses what you need to know if you want to start learning Python and develop useful skills.\n",
      "Keywords: [id=22 packages, id=23 create, id=24 modules, id=25 way, id=3 learn, id=11 python, id=26 random, id=27 install, id=28 concepts, id=29 conda, id=30 programmer, id=31 virtual, id=32 need]\n"
     ]
    },
    {
     "name": "stdin",
     "output_type": "stream",
     "text": [
      "Edit description - 1, Edit category id - 2, 3-next_article:  3\n"
     ]
    },
    {
     "name": "stdout",
     "output_type": "stream",
     "text": [
      "Next entry:  Why Python is likely to pass Java in popularity\n"
     ]
    },
    {
     "name": "stdin",
     "output_type": "stream",
     "text": [
      "press 1 to continue, 2 to quit 1\n"
     ]
    },
    {
     "name": "stdout",
     "output_type": "stream",
     "text": [
      "6 undescribed articles remaining\n",
      "\n",
      "\n",
      "Entry ID: 4\n",
      "Title: Why Python is likely to pass Java in popularity\n",
      "Date: 2020-03-10\n",
      "Link: https://www.techrepublic.com/article/why-python-is-likely-to-pass-java-in-popularity/\n",
      "Authors: [Author(id='8' name='Matt Asay'), Author(id='9' name='On'), Author(id='10' name='March'), Author(id='11' name='Pm Pst')]\n",
      "Publication: Publication(publication_id='4' title='https://www.techrepublic.com')\n",
      "Category: Category(id='3' name='Languages', section=4)\n",
      "Description: Not specified\n",
      "Keywords: [id=33 java, id=34 ogrady, id=35 popularity, id=36 data, id=37 likely, id=11 python, id=25 way, id=38 rankings, id=39 redmonk, id=2 programming, id=12 language, id=40 pass, id=41 great]\n"
     ]
    },
    {
     "name": "stdin",
     "output_type": "stream",
     "text": [
      "Edit description - 1, Edit category id - 2, 3-next_article:  1\n",
      "Type 1 to view summary, 2 to skip 1\n"
     ]
    },
    {
     "name": "stdout",
     "output_type": "stream",
     "text": [
      "Summary:\n",
      "According to RedMonk programming languages analysis, Python has a way to go to move past JavaScript, but it's already out-Java'ing Java.\n",
      "Python is eating the world: How one developer's side project became the hottest programming language Frustrated by programming language shortcomings, Guido van Rossum created Python.\n",
      "Perhaps you missed RedMonk's semi-annual update of programming language rankings but, if so, let me offer a spoiler: Python is winning.\n",
      "As such, to catch up with a venerable programming language like Java is super impressive.\n",
      "Not a chance, said O'Grady: \"Python may be virtually everywhere, but JavaScript is literally everywhere.\"\n"
     ]
    },
    {
     "name": "stdin",
     "output_type": "stream",
     "text": [
      "Enter new description or \".\" to cancel:  RedMonk's analysis says that Python has passed Java in popularity, making it the second most popular language. However, the language is unlikely to eclipse Javascript due to the latter's online ubiquity.\n"
     ]
    },
    {
     "name": "stdout",
     "output_type": "stream",
     "text": [
      "RedMonk's analysis says that Python has passed Java in popularity, making it the second most popular language. However, the language is unlikely to eclipse Javascript due to the latter's online ubiquity.\n",
      "\n",
      "\n",
      "Entry ID: 4\n",
      "Title: Why Python is likely to pass Java in popularity\n",
      "Date: 2020-03-10\n",
      "Link: https://www.techrepublic.com/article/why-python-is-likely-to-pass-java-in-popularity/\n",
      "Authors: [Author(id='8' name='Matt Asay'), Author(id='9' name='On'), Author(id='10' name='March'), Author(id='11' name='Pm Pst')]\n",
      "Publication: Publication(publication_id='4' title='https://www.techrepublic.com')\n",
      "Category: Category(id='3' name='Languages', section=4)\n",
      "Description: RedMonk's analysis says that Python has passed Java in popularity, making it the second most popular language. However, the language is unlikely to eclipse Javascript due to the latter's online ubiquity.\n",
      "Keywords: [id=33 java, id=34 ogrady, id=35 popularity, id=36 data, id=37 likely, id=11 python, id=25 way, id=38 rankings, id=39 redmonk, id=2 programming, id=12 language, id=40 pass, id=41 great]\n"
     ]
    },
    {
     "name": "stdin",
     "output_type": "stream",
     "text": [
      "Edit description - 1, Edit category id - 2, 3-next_article:  3\n"
     ]
    },
    {
     "name": "stdout",
     "output_type": "stream",
     "text": [
      "Next entry:  Nvidia’s Rapids: Python analytics on the GPU\n"
     ]
    },
    {
     "name": "stdin",
     "output_type": "stream",
     "text": [
      "press 1 to continue, 2 to quit 1\n"
     ]
    },
    {
     "name": "stdout",
     "output_type": "stream",
     "text": [
      "5 undescribed articles remaining\n",
      "\n",
      "\n",
      "Entry ID: 5\n",
      "Title: Nvidia’s Rapids: Python analytics on the GPU\n",
      "Date: 2020-03-11\n",
      "Link: https://www.infoworld.com/article/3532009/nvidias-rapids-python-analytics-on-the-gpu.html\n",
      "Authors: [Author(id='12' name='Steven Nunez')]\n",
      "Publication: Publication(publication_id='5' title='https://www.infoworld.com')\n",
      "Category: Category(id='4' name='Careers', section=1)\n",
      "Description: Not specified\n",
      "Keywords: [id=42 rapids, id=43 gpu, id=36 data, id=44 analytics, id=45 workflowrapids, id=46 run, id=11 python, id=47 machine, id=48 user, id=14 learning, id=49 nvidias, id=50 gpus]\n"
     ]
    },
    {
     "name": "stdin",
     "output_type": "stream",
     "text": [
      "Edit description - 1, Edit category id - 2, 3-next_article:  1\n",
      "Type 1 to view summary, 2 to skip 1\n"
     ]
    },
    {
     "name": "stdout",
     "output_type": "stream",
     "text": [
      "Summary:\n",
      "Building machine learning models is a repetitive process.\n",
      "At the user level, Rapids mimics the Python API in order to ease the transition for that user base.\n",
      "The Tidyverse Cookbook Typical machine learning workflowRapids ecosystem architectureThe Rapids project aims to replicate, for the most part, the machine learning and data analytics APIs of Python, but for GPUs rather than CPUs.\n",
      "This means that Python developers already have everything they need to run on the GPU, without having to learn the low-level details of CUDA programming and parallel operations.\n",
      "Pythonistas can develop code on a non-GPU enabled machine, then, with a few tweaks, run it on all the GPUs available to them.\n"
     ]
    },
    {
     "name": "stdin",
     "output_type": "stream",
     "text": [
      "Enter new description or \".\" to cancel:  NVIDIA has created a Rapids project that is intended to help Python developers access their GPUs without knowing complicated low-level code.\n"
     ]
    },
    {
     "name": "stdout",
     "output_type": "stream",
     "text": [
      "NVIDIA has created a Rapids project that is intended to help Python developers access their GPUs without knowing complicated low-level code.\n",
      "\n",
      "\n",
      "Entry ID: 5\n",
      "Title: Nvidia’s Rapids: Python analytics on the GPU\n",
      "Date: 2020-03-11\n",
      "Link: https://www.infoworld.com/article/3532009/nvidias-rapids-python-analytics-on-the-gpu.html\n",
      "Authors: [Author(id='12' name='Steven Nunez')]\n",
      "Publication: Publication(publication_id='5' title='https://www.infoworld.com')\n",
      "Category: Category(id='4' name='Careers', section=1)\n",
      "Description: NVIDIA has created a Rapids project that is intended to help Python developers access their GPUs without knowing complicated low-level code.\n",
      "Keywords: [id=42 rapids, id=43 gpu, id=36 data, id=44 analytics, id=45 workflowrapids, id=46 run, id=11 python, id=47 machine, id=48 user, id=14 learning, id=49 nvidias, id=50 gpus]\n"
     ]
    },
    {
     "name": "stdin",
     "output_type": "stream",
     "text": [
      "Edit description - 1, Edit category id - 2, 3-next_article:  3\n"
     ]
    },
    {
     "name": "stdout",
     "output_type": "stream",
     "text": [
      "Next entry:  Know Python language and up for a 'hardcore' coding test? Get in touch, says Tesla\n"
     ]
    },
    {
     "name": "stdin",
     "output_type": "stream",
     "text": [
      "press 1 to continue, 2 to quit 1\n"
     ]
    },
    {
     "name": "stdout",
     "output_type": "stream",
     "text": [
      "4 undescribed articles remaining\n",
      "\n",
      "\n",
      "Entry ID: 6\n",
      "Title: Know Python language and up for a 'hardcore' coding test? Get in touch, says Tesla\n",
      "Date: 2020-02-04\n",
      "Link: https://www.zdnet.com/article/tesla-know-python-language-and-up-for-a-hardcore-coding-test-get-in-touch/\n",
      "Authors: [Author(id='13' name='Liam Tung')]\n",
      "Publication: Publication(publication_id='6' title='https://www.zdnet.com')\n",
      "Category: Category(id='4' name='Careers', section=1)\n",
      "Description: Not specified\n",
      "Keywords: [id=51 coding, id=52 test, id=53 ai, id=54 video, id=55 autopilot, id=56 months, id=57 touch, id=58 hackathon, id=59 tesla, id=11 python, id=60 know, id=61 weeks, id=62 hardcore, id=12 language, id=63 vehicles, id=64 musk, id=65 selfdriving]\n"
     ]
    },
    {
     "name": "stdin",
     "output_type": "stream",
     "text": [
      "Edit description - 1, Edit category id - 2, 3-next_article:  1\n",
      "Type 1 to view summary, 2 to skip 1\n"
     ]
    },
    {
     "name": "stdout",
     "output_type": "stream",
     "text": [
      "Summary:\n",
      "The short clip depicts how a Tesla computer identifies other moving vehicles, road signs, traffic lights, and pedestrian-crossing markings.\n",
      "He intends to host the hackathon at \"my house\" – though which one isn't known – in about one month's time, offering candidates an opportunity to connect with the Tesla Autopilot team.\n",
      "Tesla will hold a super fun AI party/hackathon at my house with the Tesla AI/autopilot team in about four weeks.\n",
      "Musk last year announced Full Self-Driving was back on the cards for Tesla vehicles and that it would be available at some point in 2019.\n",
      "Educational background is irrelevant, but all must pass hardcore coding test,\" he wrote.\n"
     ]
    },
    {
     "name": "stdin",
     "output_type": "stream",
     "text": [
      "Enter new description or \".\" to cancel:  Elon Musk has said Tesla will hire people who can pass a \"hardcore coding test\" rather than an educational requirement. This opens the door for skilled but unconventional learners.\n"
     ]
    },
    {
     "name": "stdout",
     "output_type": "stream",
     "text": [
      "Elon Musk has said Tesla will hire people who can pass a \"hardcore coding test\" rather than an educational requirement. This opens the door for skilled but unconventional learners.\n",
      "\n",
      "\n",
      "Entry ID: 6\n",
      "Title: Know Python language and up for a 'hardcore' coding test? Get in touch, says Tesla\n",
      "Date: 2020-02-04\n",
      "Link: https://www.zdnet.com/article/tesla-know-python-language-and-up-for-a-hardcore-coding-test-get-in-touch/\n",
      "Authors: [Author(id='13' name='Liam Tung')]\n",
      "Publication: Publication(publication_id='6' title='https://www.zdnet.com')\n",
      "Category: Category(id='4' name='Careers', section=1)\n",
      "Description: Elon Musk has said Tesla will hire people who can pass a \"hardcore coding test\" rather than an educational requirement. This opens the door for skilled but unconventional learners.\n",
      "Keywords: [id=51 coding, id=52 test, id=53 ai, id=54 video, id=55 autopilot, id=56 months, id=57 touch, id=58 hackathon, id=59 tesla, id=11 python, id=60 know, id=61 weeks, id=62 hardcore, id=12 language, id=63 vehicles, id=64 musk, id=65 selfdriving]\n"
     ]
    },
    {
     "name": "stdin",
     "output_type": "stream",
     "text": [
      "Edit description - 1, Edit category id - 2, 3-next_article:  3\n"
     ]
    },
    {
     "name": "stdout",
     "output_type": "stream",
     "text": [
      "Next entry:  The coronavirus pandemic: visualising the global crisis\n"
     ]
    },
    {
     "name": "stdin",
     "output_type": "stream",
     "text": [
      "press 1 to continue, 2 to quit 1\n"
     ]
    },
    {
     "name": "stdout",
     "output_type": "stream",
     "text": [
      "3 undescribed articles remaining\n",
      "\n",
      "\n",
      "Entry ID: 7\n",
      "Title: The coronavirus pandemic: visualising the global crisis\n",
      "Date: 2020-03-13\n",
      "Link: https://www.theguardian.com/world/2020/mar/13/coronavirus-pandemic-visualising-the-global-crisis\n",
      "Authors: [Author(id='14' name='Cath Levett'), Author(id='15' name='Paul Torpey')]\n",
      "Publication: Publication(publication_id='7' title='https://www.theguardian.com')\n",
      "Category: Category(id='4' name='Careers', section=1)\n",
      "Description: Not specified\n",
      "Keywords: [id=66 spread, id=67 pandemic, id=68 population, id=69 global, id=70 coronavirus, id=71 experienced, id=72 virus, id=73 sars, id=74 countries, id=75 italy, id=76 cases, id=77 symptoms, id=78 crisis, id=79 visualising]\n"
     ]
    },
    {
     "name": "stdin",
     "output_type": "stream",
     "text": [
      "Edit description - 1, Edit category id - 2, 3-next_article:  1\n",
      "Type 1 to view summary, 2 to skip 1\n"
     ]
    },
    {
     "name": "stdout",
     "output_type": "stream",
     "text": [
      "Summary:\n",
      "The WHO has declared the global outbreak a pandemic.\n",
      "This research showed that 80.9% of patients experienced mild symptoms, 13.8% required hospitalisation and experienced severe symptoms, and 4.7% were critical cases requiring intensive care.\n",
      "Taken with the 110,000 cases in Italy, Iran and South Korea, this amounts to 87% of cases in total.\n",
      "In 2002, Sars spread to 37 countries, infecting more than 8,000 people and killing more than 750.\n",
      "The Spanish flu was the deadliest pandemic in history, killing up to 100 million people between 1918 and 1920.\n"
     ]
    },
    {
     "name": "stdin",
     "output_type": "stream",
     "text": [
      "Enter new description or \".\" to cancel:  A visualization of WHO data regarding the coronavirus. Approximately 4.7 percent of cases required intensive care.\n"
     ]
    },
    {
     "name": "stdout",
     "output_type": "stream",
     "text": [
      "A visualization of WHO data regarding the coronavirus. Approximately 4.7 percent of cases required intensive care.\n",
      "\n",
      "\n",
      "Entry ID: 7\n",
      "Title: The coronavirus pandemic: visualising the global crisis\n",
      "Date: 2020-03-13\n",
      "Link: https://www.theguardian.com/world/2020/mar/13/coronavirus-pandemic-visualising-the-global-crisis\n",
      "Authors: [Author(id='14' name='Cath Levett'), Author(id='15' name='Paul Torpey')]\n",
      "Publication: Publication(publication_id='7' title='https://www.theguardian.com')\n",
      "Category: Category(id='4' name='Careers', section=1)\n",
      "Description: A visualization of WHO data regarding the coronavirus. Approximately 4.7 percent of cases required intensive care.\n",
      "Keywords: [id=66 spread, id=67 pandemic, id=68 population, id=69 global, id=70 coronavirus, id=71 experienced, id=72 virus, id=73 sars, id=74 countries, id=75 italy, id=76 cases, id=77 symptoms, id=78 crisis, id=79 visualising]\n"
     ]
    },
    {
     "name": "stdin",
     "output_type": "stream",
     "text": [
      "Edit description - 1, Edit category id - 2, 3-next_article:  3\n"
     ]
    },
    {
     "name": "stdout",
     "output_type": "stream",
     "text": [
      "Next entry:  Code won’t bite. We promise. In fact, this batch of courses could actually make programming your friend.\n"
     ]
    },
    {
     "name": "stdin",
     "output_type": "stream",
     "text": [
      "press 1 to continue, 2 to quit 1\n"
     ]
    },
    {
     "name": "stdout",
     "output_type": "stream",
     "text": [
      "2 undescribed articles remaining\n",
      "\n",
      "\n",
      "Entry ID: 9\n",
      "Title: Code won’t bite. We promise. In fact, this batch of courses could actually make programming your friend.\n",
      "Date: 2020-03-14\n",
      "Link: https://thenextweb.com/offers/2020/03/14/code-wont-bite-we-promise-in-fact-this-batch-of-courses-could-actually-make-programming-your-friend/\n",
      "Authors: [Author(id='16' name='Tnw Deals')]\n",
      "Publication: Publication(publication_id='9' title='https://thenextweb.com')\n",
      "Category: Category(id='1' name='skills', section=4)\n",
      "Description: Not specified\n",
      "Keywords: [id=92 app, id=93 wont, id=94 bite, id=95 training, id=14 learning, id=9 code, id=96 development, id=97 friend, id=98 batch, id=99 beginners, id=100 courses, id=101 game, id=102 promise, id=103 start, id=104 fact, id=105 web, id=5 think, id=2 programming, id=106 actually]\n"
     ]
    },
    {
     "name": "stdin",
     "output_type": "stream",
     "text": [
      "Edit description - 1, Edit category id - 2, 3-next_article:  1\n",
      "Type 1 to view summary, 2 to skip 2\n"
     ]
    },
    {
     "name": "stdout",
     "output_type": "stream",
     "text": [
      "Summary display not needed\n"
     ]
    },
    {
     "name": "stdin",
     "output_type": "stream",
     "text": [
      "Enter new description or \".\" to cancel:  Overview of the best Python courses on Udemy\n"
     ]
    },
    {
     "name": "stdout",
     "output_type": "stream",
     "text": [
      "Overview of the best Python courses on Udemy\n",
      "\n",
      "\n",
      "Entry ID: 9\n",
      "Title: Code won’t bite. We promise. In fact, this batch of courses could actually make programming your friend.\n",
      "Date: 2020-03-14\n",
      "Link: https://thenextweb.com/offers/2020/03/14/code-wont-bite-we-promise-in-fact-this-batch-of-courses-could-actually-make-programming-your-friend/\n",
      "Authors: [Author(id='16' name='Tnw Deals')]\n",
      "Publication: Publication(publication_id='9' title='https://thenextweb.com')\n",
      "Category: Category(id='1' name='skills', section=4)\n",
      "Description: Overview of the best Python courses on Udemy\n",
      "Keywords: [id=92 app, id=93 wont, id=94 bite, id=95 training, id=14 learning, id=9 code, id=96 development, id=97 friend, id=98 batch, id=99 beginners, id=100 courses, id=101 game, id=102 promise, id=103 start, id=104 fact, id=105 web, id=5 think, id=2 programming, id=106 actually]\n"
     ]
    },
    {
     "name": "stdin",
     "output_type": "stream",
     "text": [
      "Edit description - 1, Edit category id - 2, 3-next_article:  3\n"
     ]
    },
    {
     "name": "stdout",
     "output_type": "stream",
     "text": [
      "Next entry:  Why Python May Lose Its Charm Over Time?\n"
     ]
    },
    {
     "name": "stdin",
     "output_type": "stream",
     "text": [
      "press 1 to continue, 2 to quit 1\n"
     ]
    },
    {
     "name": "stdout",
     "output_type": "stream",
     "text": [
      "1 undescribed articles remaining\n",
      "\n",
      "\n",
      "Entry ID: 10\n",
      "Title: Why Python May Lose Its Charm Over Time?\n",
      "Date: 2020-03-12\n",
      "Link: https://analyticsindiamag.com/why-python-may-lose-its-charm-over-time/\n",
      "Authors: [Author(id='17' name='Sejuti Das')]\n",
      "Publication: Publication(publication_id='10' title='https://analyticsindiamag.com')\n",
      "Category: Category(id='4' name='Careers', section=1)\n",
      "Description: Not specified\n",
      "Keywords: [id=107 mobile, id=96 development, id=108 lose, id=10 languages, id=109 charm, id=110 used, id=111 developers, id=12 language, id=33 java, id=11 python, id=2 programming, id=112 considered]\n"
     ]
    },
    {
     "name": "stdin",
     "output_type": "stream",
     "text": [
      "Edit description - 1, Edit category id - 2, 3-next_article:  1\n",
      "Type 1 to view summary, 2 to skip 1\n"
     ]
    },
    {
     "name": "stdout",
     "output_type": "stream",
     "text": [
      "Summary:\n",
      "Founded by developer Guido Van Rossum, Python is a high level, interpreted, and dynamic programming language used for the development of various applications such as web development, scientific computing, etc.\n",
      "Its simplicity also allows programmers to integrate Python seamlessly with other programming languages.\n",
      "Python also has downsides compared to other programming languages like Julia, Swift, Java etc.\n",
      "Python is an interpreted language and therefore is slower in execution than other languages like C/C++, Java, or newer languages like Julia.\n",
      "OutlookLearning python basics will make a beginner understand the core of programming with the easier python codes.\n"
     ]
    },
    {
     "name": "stdin",
     "output_type": "stream",
     "text": [
      "Enter new description or \".\" to cancel:  Python is a great language, but it has limitations in terms of computational speed. Nothing is perfect, and this article outlines some of its drawbacks.\n"
     ]
    },
    {
     "name": "stdout",
     "output_type": "stream",
     "text": [
      "Python is a great language, but it has limitations in terms of computational speed. Nothing is perfect, and this article outlines some of its drawbacks.\n",
      "\n",
      "\n",
      "Entry ID: 10\n",
      "Title: Why Python May Lose Its Charm Over Time?\n",
      "Date: 2020-03-12\n",
      "Link: https://analyticsindiamag.com/why-python-may-lose-its-charm-over-time/\n",
      "Authors: [Author(id='17' name='Sejuti Das')]\n",
      "Publication: Publication(publication_id='10' title='https://analyticsindiamag.com')\n",
      "Category: Category(id='4' name='Careers', section=1)\n",
      "Description: Python is a great language, but it has limitations in terms of computational speed. Nothing is perfect, and this article outlines some of its drawbacks.\n",
      "Keywords: [id=107 mobile, id=96 development, id=108 lose, id=10 languages, id=109 charm, id=110 used, id=111 developers, id=12 language, id=33 java, id=11 python, id=2 programming, id=112 considered]\n"
     ]
    },
    {
     "name": "stdin",
     "output_type": "stream",
     "text": [
      "Edit description - 1, Edit category id - 2, 3-next_article:  3\n"
     ]
    },
    {
     "name": "stdout",
     "output_type": "stream",
     "text": [
      "Next entry:  New Python Programmer? Learn These Concepts First.\n"
     ]
    },
    {
     "name": "stdin",
     "output_type": "stream",
     "text": [
      "press 1 to continue, 2 to quit 1\n"
     ]
    },
    {
     "name": "stdout",
     "output_type": "stream",
     "text": [
      "0 undescribed articles remaining\n",
      "\n",
      "\n",
      "Entry ID: 3\n",
      "Title: New Python Programmer? Learn These Concepts First.\n",
      "Date: 2020-02-17\n",
      "Link: https://insights.dice.com/2020/02/17/new-python-programmer-learn-concepts/\n",
      "Authors: [Author(id='7' name='David Bolton')]\n",
      "Publication: Publication(publication_id='3' title='https://insights.dice.com')\n",
      "Category: None\n",
      "Description: This article discusses what you need to know if you want to start learning Python and develop useful skills.\n",
      "Keywords: [id=22 packages, id=23 create, id=24 modules, id=25 way, id=3 learn, id=11 python, id=26 random, id=27 install, id=28 concepts, id=29 conda, id=30 programmer, id=31 virtual, id=32 need]\n"
     ]
    },
    {
     "name": "stdin",
     "output_type": "stream",
     "text": [
      "Edit description - 1, Edit category id - 2, 3-next_article:  3\n"
     ]
    },
    {
     "name": "stdout",
     "output_type": "stream",
     "text": [
      "Next entry:  Why Python is likely to pass Java in popularity\n"
     ]
    },
    {
     "name": "stdin",
     "output_type": "stream",
     "text": [
      "press 1 to continue, 2 to quit 1\n"
     ]
    },
    {
     "name": "stdout",
     "output_type": "stream",
     "text": [
      "0 undescribed articles remaining\n",
      "\n",
      "\n",
      "Entry ID: 4\n",
      "Title: Why Python is likely to pass Java in popularity\n",
      "Date: 2020-03-10\n",
      "Link: https://www.techrepublic.com/article/why-python-is-likely-to-pass-java-in-popularity/\n",
      "Authors: [Author(id='8' name='Matt Asay'), Author(id='9' name='On'), Author(id='10' name='March'), Author(id='11' name='Pm Pst')]\n",
      "Publication: Publication(publication_id='4' title='https://www.techrepublic.com')\n",
      "Category: Category(id='3' name='Languages', section=4)\n",
      "Description: RedMonk's analysis says that Python has passed Java in popularity, making it the second most popular language. However, the language is unlikely to eclipse Javascript due to the latter's online ubiquity.\n",
      "Keywords: [id=33 java, id=34 ogrady, id=35 popularity, id=36 data, id=37 likely, id=11 python, id=25 way, id=38 rankings, id=39 redmonk, id=2 programming, id=12 language, id=40 pass, id=41 great]\n"
     ]
    },
    {
     "name": "stdin",
     "output_type": "stream",
     "text": [
      "Edit description - 1, Edit category id - 2, 3-next_article:  3\n"
     ]
    },
    {
     "name": "stdout",
     "output_type": "stream",
     "text": [
      "Next entry:  Nvidia’s Rapids: Python analytics on the GPU\n"
     ]
    },
    {
     "name": "stdin",
     "output_type": "stream",
     "text": [
      "press 1 to continue, 2 to quit 2\n",
      " add entry -l https://www.infoworld.com/article/3532358/oracle-extends-extended-support-for-java-8.html -c 3 -d 03/16/2020\n"
     ]
    },
    {
     "name": "stdout",
     "output_type": "stream",
     "text": [
      "\n",
      "Title is being added...\n",
      "'Oracle extends Extended support for Java 8'\n",
      "Publication(publication_id='5' title='https://www.infoworld.com')\n",
      "Oracle extends Extended support for Java 8 added successfully\n"
     ]
    },
    {
     "name": "stdin",
     "output_type": "stream",
     "text": [
      " display_categories\n"
     ]
    },
    {
     "name": "stdout",
     "output_type": "stream",
     "text": [
      "Categories: \n",
      "Category(id='1' name='skills', section=4)\n",
      "Category(id='2' name='scripting/automation', section=1)\n",
      "Category(id='3' name='Languages', section=4)\n",
      "Category(id='4' name='Careers', section=1)\n",
      "Category(id='5' name='Deep Learning', section=4)\n"
     ]
    },
    {
     "name": "stdin",
     "output_type": "stream",
     "text": [
      " add entry -l https://www.infoq.com/news/2020/03/new-relic-jvm-report/ -c 3 -d 03/13/2020\n"
     ]
    },
    {
     "name": "stdout",
     "output_type": "stream",
     "text": [
      "\n",
      "Title is being added...\n",
      "'New Relic – the State of Java Report'\n",
      "None\n",
      "Publication(publication_id='11' title='https://www.infoq.com')\n",
      "New Relic – the State of Java Report added successfully\n"
     ]
    },
    {
     "name": "stdin",
     "output_type": "stream",
     "text": [
      " quit\n"
     ]
    }
   ],
   "source": [
    "if __name__ == '__main__':\n",
    "    a=app.App()\n",
    "    a.setup()\n",
    "    RoundupCMD().cmdloop()"
   ]
  },
  {
   "cell_type": "code",
   "execution_count": null,
   "metadata": {},
   "outputs": [],
   "source": [
    "a.d.session.close()"
   ]
  },
  {
   "cell_type": "code",
   "execution_count": null,
   "metadata": {},
   "outputs": [],
   "source": []
  }
 ],
 "metadata": {
  "kernelspec": {
   "display_name": "Python 3",
   "language": "python",
   "name": "python3"
  },
  "language_info": {
   "codemirror_mode": {
    "name": "ipython",
    "version": 3
   },
   "file_extension": ".py",
   "mimetype": "text/x-python",
   "name": "python",
   "nbconvert_exporter": "python",
   "pygments_lexer": "ipython3",
   "version": "3.7.5"
  }
 },
 "nbformat": 4,
 "nbformat_minor": 4
}
